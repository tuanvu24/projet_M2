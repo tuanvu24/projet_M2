{
 "cells": [
  {
   "cell_type": "code",
   "execution_count": 1,
   "id": "4d5161a3",
   "metadata": {},
   "outputs": [
    {
     "data": {
      "text/plain": [
       "'cuda'"
      ]
     },
     "execution_count": 1,
     "metadata": {},
     "output_type": "execute_result"
    }
   ],
   "source": [
    "import whisper\n",
    "import json\n",
    "import spacy\n",
    "import tensorflow as tf\n",
    "import torch\n",
    "\n",
    "\n",
    "gpu = tf.config.list_physical_devices('GPU')\n",
    "\n",
    "DEVICE = \"cuda\" if len(gpu) >= 1 else \"cpu\"\n",
    "\n",
    "#pip3 install torch torchvision torchaudio --extra-index-url https://download.pytorch.org/whl/cu116\n",
    "dossier = \"whisper\"\n",
    "ad = \"ad\"\n",
    "cn = \"cn\"\n",
    "\n",
    "torch.cuda.empty_cache()\n",
    "torch.cuda.memory_summary(device=None, abbreviated=False)\n",
    "\n",
    "DEVICE"
   ]
  },
  {
   "cell_type": "code",
   "execution_count": 2,
   "id": "24fe7a47",
   "metadata": {},
   "outputs": [],
   "source": [
    "model = whisper.load_model(\"medium.en\", device = DEVICE)\n",
    "#whisper_result = model.transcribe(\"adrso025.wav\") #true if GPU\n",
    "#whisper_result['segments']"
   ]
  },
  {
   "cell_type": "code",
   "execution_count": 4,
   "id": "30ccd2b1",
   "metadata": {},
   "outputs": [],
   "source": [
    "#fonction pour tous les fichiers audio dans /doss :\n",
    "#faire la transcription\n",
    "#faire la sauvegarde du json dans dossier/ad ou cn/nom.json\n",
    "import os\n",
    "\n",
    "def save_json(result, dossier, name):\n",
    "    with open(dossier + \"/\"+ name, \"w\") as f:\n",
    "        json.dump(result, f)\n",
    "    return True\n",
    "\n",
    "#sauvegarde_json(whisper_result, dossier, ad, \"adrso025\")\n",
    "\n",
    "def do_transcriptions_in_folder(folder_path, dossier, label):\n",
    "    #create folder\n",
    "    u_dossier = dossier + \"/\" + label\n",
    "    try:\n",
    "        os.makedirs(u_dossier)\n",
    "    except FileExistsError:\n",
    "        pass\n",
    "    \n",
    "    #list of audios name\n",
    "    files = [file for file in os.listdir(folder_path) if (os.path.isfile(os.path.join(folder_path, file) and file.endswith(\".wav\")))]\n",
    "    \n",
    "    for audio in files:\n",
    "        #do transcription\n",
    "        result = model.transcribe(folder_path + '/' + audio)\n",
    "        #save in json\n",
    "        result[\"label\"] = 1 if label == \"ad\" else 0\n",
    "        save_json(result, u_dossier, audio.replace(\".wav\",\".json\"))\n",
    "    return True\n",
    "\n",
    "\n",
    "        \n"
   ]
  },
  {
   "cell_type": "code",
   "execution_count": 5,
   "id": "38b169b0",
   "metadata": {},
   "outputs": [
    {
     "data": {
      "text/plain": [
       "True"
      ]
     },
     "execution_count": 5,
     "metadata": {},
     "output_type": "execute_result"
    }
   ],
   "source": [
    "do_transcriptions_in_folder(\"ad\", dossier, \"ad\")\n",
    "do_transcriptions_in_folder(\"cn\", dossier, \"cn\")"
   ]
  },
  {
   "cell_type": "code",
   "execution_count": 7,
   "id": "da606ff2",
   "metadata": {},
   "outputs": [
    {
     "data": {
      "text/plain": [
       "True"
      ]
     },
     "execution_count": 7,
     "metadata": {},
     "output_type": "execute_result"
    }
   ],
   "source": [
    "do_transcriptions_in_folder(\"ad_segmented\", \"whisper_seg\", \"ad\")\n",
    "do_transcriptions_in_folder(\"cn_segmented\", \"whisper_seg\", \"cn\")\n"
   ]
  },
  {
   "cell_type": "code",
   "execution_count": null,
   "id": "56be5d06",
   "metadata": {},
   "outputs": [],
   "source": []
  },
  {
   "cell_type": "code",
   "execution_count": null,
   "id": "c1dc0d7f",
   "metadata": {},
   "outputs": [],
   "source": []
  },
  {
   "cell_type": "code",
   "execution_count": null,
   "id": "f82319d1",
   "metadata": {},
   "outputs": [],
   "source": []
  },
  {
   "cell_type": "code",
   "execution_count": null,
   "id": "347c3465",
   "metadata": {},
   "outputs": [],
   "source": []
  }
 ],
 "metadata": {
  "kernelspec": {
   "display_name": "Python 3 (ipykernel)",
   "language": "python",
   "name": "python3"
  },
  "language_info": {
   "codemirror_mode": {
    "name": "ipython",
    "version": 3
   },
   "file_extension": ".py",
   "mimetype": "text/x-python",
   "name": "python",
   "nbconvert_exporter": "python",
   "pygments_lexer": "ipython3",
   "version": "3.9.16"
  }
 },
 "nbformat": 4,
 "nbformat_minor": 5
}

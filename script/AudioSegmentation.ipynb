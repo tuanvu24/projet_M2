{
 "cells": [
  {
   "cell_type": "code",
   "execution_count": 11,
   "id": "aa45bdea",
   "metadata": {},
   "outputs": [],
   "source": [
    "from pydub import AudioSegment\n",
    "import os \n",
    "dossier = \"AudioSegments\"\n",
    "# Durée de chaque segment\n",
    "segment_duration = 30 * 1000"
   ]
  },
  {
   "cell_type": "code",
   "execution_count": 2,
   "id": "7e8798e0",
   "metadata": {},
   "outputs": [],
   "source": []
  },
  {
   "cell_type": "code",
   "execution_count": 3,
   "id": "f43c304b",
   "metadata": {},
   "outputs": [],
   "source": [
    "# Durée totale de l'audio\n",
    "duration = len(audio)"
   ]
  },
  {
   "cell_type": "code",
   "execution_count": 15,
   "id": "c2ea4d2b",
   "metadata": {},
   "outputs": [],
   "source": [
    "def segmentation_one_audio(segment_duration, to_folder, audio, name):\n",
    "    # Charger l'audio\n",
    "    duration = len(audio)\n",
    "    # Nombre de segments de 30 secondes\n",
    "    num_segments = duration // segment_duration\n",
    "    filename = name\n",
    "    audio_name = filename.split(\".\")[0]\n",
    "\n",
    "    # Boucle sur les segments\n",
    "    for i in range(num_segments):\n",
    "        start = i * segment_duration\n",
    "        end = (i + 1) * segment_duration\n",
    "        segment = audio[start:end]\n",
    "        seg_name = to_folder + '/'+ audio_name + f\"_segment_{i}.wav\"\n",
    "        segment.export(seg_name, format=\"wav\")\n",
    "\n",
    "    # Si la durée totale n'est pas divisible par 30, créer un dernier segment avec la durée restante\n",
    "    if duration % segment_duration != 0:\n",
    "        start = num_segments * segment_duration\n",
    "        end = duration\n",
    "        segment = audio[start:end]\n",
    "        last_seg_name = to_folder + '/'+ audio_name + f\"_segment_{num_segments}.wav\"\n",
    "        segment.export(last_seg_name, format=\"wav\")"
   ]
  },
  {
   "cell_type": "code",
   "execution_count": 16,
   "id": "9497651e",
   "metadata": {},
   "outputs": [],
   "source": [
    "def segmentations_audios_in_folder(from_folder, to_folder):\n",
    "    #create folder if non existing\n",
    "    try:\n",
    "        os.makedirs(to_folder)\n",
    "    except FileExistsError:\n",
    "        pass\n",
    "    \n",
    "    #get list name of audios in from_folder\n",
    "    files = [file for file in os.listdir(from_folder) if (os.path.isfile(os.path.join(from_folder, file) and file.endswith(\".wav\")))]\n",
    "    \n",
    "    #for loop doing segmentation for each audio in folder\n",
    "    for audio in files:\n",
    "        audio_to_seg = AudioSegment.from_file(from_folder + \"/\" + audio, format=\"wav\")\n",
    "        segmentation_one_audio(segment_duration, to_folder, audio_to_seg, audio) \n",
    "    \n"
   ]
  },
  {
   "cell_type": "code",
   "execution_count": 17,
   "id": "40441bc6",
   "metadata": {},
   "outputs": [],
   "source": [
    "segmentations_audios_in_folder(\"ad\", \"ad_segmented\")\n"
   ]
  },
  {
   "cell_type": "code",
   "execution_count": 18,
   "id": "a8db676b",
   "metadata": {},
   "outputs": [],
   "source": [
    "segmentations_audios_in_folder(\"cn\", \"cn_segmented\")"
   ]
  },
  {
   "cell_type": "code",
   "execution_count": null,
   "id": "00c2640e",
   "metadata": {},
   "outputs": [],
   "source": []
  }
 ],
 "metadata": {
  "kernelspec": {
   "display_name": "Python 3 (ipykernel)",
   "language": "python",
   "name": "python3"
  },
  "language_info": {
   "codemirror_mode": {
    "name": "ipython",
    "version": 3
   },
   "file_extension": ".py",
   "mimetype": "text/x-python",
   "name": "python",
   "nbconvert_exporter": "python",
   "pygments_lexer": "ipython3",
   "version": "3.9.16"
  }
 },
 "nbformat": 4,
 "nbformat_minor": 5
}

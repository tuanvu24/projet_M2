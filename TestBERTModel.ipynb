{
  "cells": [
    {
      "cell_type": "code",
      "execution_count": null,
      "id": "492db99a",
      "metadata": {
        "colab": {
          "base_uri": "https://localhost:8080/"
        },
        "id": "492db99a",
        "outputId": "75365b65-e7c7-4b87-bc39-1e81c5398c76"
      },
      "outputs": [
        {
          "output_type": "stream",
          "name": "stdout",
          "text": [
            "Drive already mounted at /content/drive; to attempt to forcibly remount, call drive.mount(\"/content/drive\", force_remount=True).\n"
          ]
        }
      ],
      "source": [
        "import json\n",
        "import os\n",
        "\n",
        "# drive à importer : https://drive.google.com/drive/folders/1vn_RM47LA_HdpQwZqdwqNRPm7CXyeeV3?usp=sharing\n",
        "# \n",
        "#1 chargement des datas\n",
        "\n",
        "#Nous allons tester la classification binaire \n",
        "from google.colab import drive\n",
        "drive.mount('/content/drive')"
      ]
    },
    {
      "cell_type": "code",
      "execution_count": null,
      "id": "47bcf75a",
      "metadata": {
        "id": "47bcf75a"
      },
      "outputs": [],
      "source": [
        "# Définit le chemin vers le dossier contenant les différentes types de datas\n",
        "\n",
        "###WhisperX\n",
        "\n",
        "#whisperX \n",
        "folder_path_whisperX_ad = \"/content/drive/MyDrive/Alzheimer_transcripts/transcriptions/whisperX/ad\"\n",
        "folder_path_whisperX_cn = \"/content/drive/MyDrive/Alzheimer_transcripts/transcriptions/whisperX/cn\"\n",
        "\n",
        "#whisperX with segmented 30sec audios length\n",
        "folder_path_whisperX_ad_seg = \"/content/drive/MyDrive/Alzheimer_transcripts/transcriptions/whisperX_seg/ad\"\n",
        "folder_path_whisperX_cn_seg = \"/content/drive/MyDrive/Alzheimer_transcripts/transcriptions/whisperX_seg/cn\"\n",
        "\n",
        "#whisperX with segmented 30sec audios length and whistespaces representation \n",
        "folder_path_whisperX_ad_ws_seg = \"/content/drive/MyDrive/Alzheimer_transcripts/transcriptions/whisperX_seg/white_spaces_ad\"\n",
        "folder_path_whisperX_cn_ws_seg = \"/content/drive/MyDrive/Alzheimer_transcripts/transcriptions/whisperX_seg/white_spaces_cn\"\n",
        "\n",
        "\n",
        "#whisperX with whistespaces representation \n",
        "folder_path_whisperX_ad_ws = \"/content/drive/MyDrive/Alzheimer_transcripts/transcriptions/whisperX/white_spaces_ad\"\n",
        "folder_path_whisperX_cn_ws = \"/content/drive/MyDrive/Alzheimer_transcripts/transcriptions/whisperX/white_spaces_cn\"\n",
        "\n",
        "\n",
        "\n",
        "###Whisper classic\n",
        "folder_path_whisper_ad = \"/content/drive/MyDrive/Alzheimer_transcripts/transcriptions/whisper/ad\"\n",
        "folder_path_whisper_cn = \"/content/drive/MyDrive/Alzheimer_transcripts/transcriptions/whisper/cn\"\n",
        "\n",
        "###Whisper classic with segmented 30sec audios length\n",
        "folder_path_whisper_ad_seg = \"/content/drive/MyDrive/Alzheimer_transcripts/transcriptions/whisper_seg/ad\"\n",
        "folder_path_whisper_cn_seg = \"/content/drive/MyDrive/Alzheimer_transcripts/transcriptions/whisper_seg/cn\"\n",
        "\n",
        "\n",
        "\n",
        "# # Liste tous les fichiers dans les 2 dossiers\n",
        "# def list_files(folder_ad, folder_cn):\n",
        "#   files = []\n",
        "#   for data in [folder_ad, folder_cn]:\n",
        "#       files.extend(os.listdir(data))    \n",
        "#   return files   \n",
        "\n",
        "# files_whisperX = list_files(folder_path_whisperX_ad, folder_path_whisperX_cn)\n",
        "# print(\"taille whisperX files : \", len(files_whisperX))\n",
        "# files_whisperX_seg = list_files(folder_path_whisperX_ad_seg, folder_path_whisperX_cn_seg)\n",
        "# print(\"taille whisperX_seg files : \",len(files_whisperX_seg))\n",
        "# files_whisperX_seg_ws = list_files(folder_path_whisperX_ad_ws_seg, folder_path_whisperX_cn_ws_seg)\n",
        "# print(\"taille whisperX_seg_ws files : \",len(files_whisperX_seg_ws))\n",
        "# files_whisperX_ws = list_files(folder_path_whisperX_ad_ws, folder_path_whisperX_cn_ws)\n",
        "# print(\"taille whisperX_ws files : \",len(files_whisperX_ws))\n",
        "\n",
        "\n",
        "# files_whisper = list_files(folder_path_whisper_ad, folder_path_whisper_cn)\n",
        "# print(\"taille whisper files : \", len(files_whisper))\n",
        "# files_whisper_seg = list_files(folder_path_whisper_ad_seg, folder_path_whisper_cn_seg)\n",
        "# print(\"taille whisper_seg files : \", len(files_whisper_seg))"
      ]
    },
    {
      "cell_type": "code",
      "execution_count": null,
      "id": "6d6d201e",
      "metadata": {
        "id": "6d6d201e"
      },
      "outputs": [],
      "source": [
        "def from_json_to_dict(folder_ad, folder_cn):\n",
        "    data_ad = []\n",
        "    data_cn = []\n",
        "    for dir_path in [folder_ad, folder_cn]:\n",
        "        for file_name in os.listdir(dir_path):\n",
        "            if file_name.endswith('.json'):\n",
        "                file_path = os.path.join(dir_path, file_name)\n",
        "                with open(file_path, 'r') as f:\n",
        "                    data = json.load(f)\n",
        "                    if dir_path == folder_ad:\n",
        "                        data_ad.append(data)\n",
        "                    elif dir_path == folder_cn:\n",
        "                        data_cn.append(data)\n",
        "    return data_ad, data_cn             \n",
        "\n",
        "                \n",
        "whisperX_data_ad, whisperX_data_cn = from_json_to_dict(folder_path_whisperX_ad, folder_path_whisperX_cn)\n",
        "whisperX_seg_data_ad, whisperX_seg_data_cn = from_json_to_dict(folder_path_whisperX_ad_seg, folder_path_whisperX_cn_seg)\n",
        "whisperX_seg_ws_data_ad, whisperX_seg_ws_data_cn = from_json_to_dict(folder_path_whisperX_ad_ws_seg, folder_path_whisperX_cn_ws_seg)\n",
        "whisperX_ws_data_ad, whisperX_ws_data_cn = from_json_to_dict(folder_path_whisperX_ad_ws, folder_path_whisperX_cn_ws)\n",
        "\n",
        "\n",
        "whisper_seg_data_ad, whisper_seg_data_cn = from_json_to_dict(folder_path_whisper_ad_seg, folder_path_whisper_cn_seg)\n"
      ]
    },
    {
      "cell_type": "code",
      "source": [
        "whisper_data_ad, whisper_data_cn = from_json_to_dict(folder_path_whisper_ad, folder_path_whisper_cn)"
      ],
      "metadata": {
        "id": "zHk7mTKnKYTD"
      },
      "id": "zHk7mTKnKYTD",
      "execution_count": null,
      "outputs": []
    },
    {
      "cell_type": "code",
      "source": [
        "from random import choice\n",
        "\n",
        "print(\"\\nexemple d'une data ad avec whisperX :\\n \", choice(whisperX_data_ad))\n",
        "print(\"\\nexemple d'une data cn avec whisperX :\\n \", choice(whisperX_data_cn))\n",
        "\n",
        "print(\"\\nexemple d'une data ad avec whisperX_ws :\\n \", whisperX_ws_data_ad[1])"
      ],
      "metadata": {
        "id": "gakJZ4yaItVp",
        "colab": {
          "base_uri": "https://localhost:8080/"
        },
        "outputId": "78dae449-d0bd-4f6a-8443-8244f65f2e3b"
      },
      "id": "gakJZ4yaItVp",
      "execution_count": null,
      "outputs": [
        {
          "output_type": "stream",
          "name": "stdout",
          "text": [
            "\n",
            "exemple d'une data ad avec whisperX :\n",
            "  {'text': \"Just to take a look at this picture and tell me everything that you see going on in the picture. Tell me everything that you see happening. Now, the girl's cooking, the girl's cooking, the boy's cooking and he's still a fellow when the cookies are spilled. These bills produce water. Worshindoishes. There's Worshindoishes drying them. They run over the sinks running over. Your feet can't go water. There must be a path out back. Fires, trees. I don't know what else. Water on the floor. Is that everything then? Yeah.\", 'label': 1}\n",
            "\n",
            "exemple d'une data cn avec whisperX :\n",
            "  {'text': \"I'm going to go ahead and show you all of the action. There's a boy reaching, he's on a stool, reaching for a cookie, and the stool is ready to fall over. He's got one hand in the cookie jar, and he's got a cookie in the left hand. There's a girl standing beside him. Go ahead. And she's reaching for the coquina gas in her hand, and she has her right finger up to her lip. There's a woman standing at the sink, drying dishes, and the sink is always flowing with water onto the floor. You just want the action. Mm hmm. Awesome. Good, thank you.\", 'label': 0}\n",
            "\n",
            "exemple d'une data ad avec whisperX_ws :\n",
            "  {'text': \"Tell me everything that's going on. .. Well, . the kids are . working on the corner. We're grading, I think they are going to . get .. some cookies from the cookie jar and the mother does not see it because she's inside . drying the clothes. And . the kids then just, I guess, did a picture that the mother that's working hard and the kids were playing and all of a sudden somebody .. turned over a dish and all over the floor except that it did not splash from the sink, but not . from the hot water. long silence No, that's not... I'm trying to get too much out of it. That's okay. Is there anything else? . One of the kids is going to get a crack on my head. . And maybe has a... long silence Yes, it's . so... sometimes I see it very clearly and . other times I see a weak image, so to speak. And sometimes I just... What is it, you know? Well, is there anything else that you can think of? Mostly, I have not so much trouble in . looking at that thing as an image, long silence but .. not getting any of the yours. Was there anything else in that picture you want to tell me or do you think you've told me everything? Okay, thank you. All\", 'label': 1}\n"
          ]
        }
      ]
    },
    {
      "cell_type": "code",
      "execution_count": null,
      "id": "dd4c6b38",
      "metadata": {
        "id": "dd4c6b38"
      },
      "outputs": [],
      "source": [
        "#delete des keys autre que 'text' et 'label'\n",
        "keys_to_keep = ['text', 'label']\n",
        "\n",
        "def delete_keys(d, keys_to_keep):\n",
        "    for key in list(d.keys()):\n",
        "        if key not in keys_to_keep:\n",
        "            del d[key]\n",
        "\n",
        "for data in (whisperX_data_ad + whisperX_data_cn + \\\n",
        "             whisperX_seg_data_ad + whisperX_seg_data_cn + \\\n",
        "             whisperX_seg_ws_data_ad + whisperX_seg_ws_data_cn +\\\n",
        "             whisperX_ws_data_ad + whisperX_ws_data_cn +\\\n",
        "             whisper_seg_data_ad + whisper_seg_data_cn +\\\n",
        "             whisper_data_ad + whisper_data_cn):\n",
        "    delete_keys(data, keys_to_keep)\n",
        "    "
      ]
    },
    {
      "cell_type": "code",
      "execution_count": null,
      "id": "41335178",
      "metadata": {
        "id": "41335178"
      },
      "outputs": [],
      "source": []
    },
    {
      "cell_type": "code",
      "execution_count": null,
      "id": "6eaa6fac",
      "metadata": {
        "id": "6eaa6fac"
      },
      "outputs": [],
      "source": [
        "# nous avons 6 types de données différentes, on leur attribue un numéros pour la lisibilité des variables:\n",
        "# 0 : whisper\n",
        "# 1 : whisper_seg\n",
        "\n",
        "# 2 : whisperX\n",
        "# 3 : whisperX_seg\n",
        "# 4 : whisperX_seg_ws\n",
        "# 5 : whisperX_ws\n",
        "\n",
        "from sklearn.model_selection import train_test_split\n",
        "\n",
        "data_0 = whisper_data_ad + whisper_data_cn\n",
        "data_1 = whisper_seg_data_ad + whisper_seg_data_cn \n",
        "data_2 =whisperX_data_ad + whisperX_data_cn\n",
        "data_3 = whisperX_seg_data_ad + whisperX_seg_data_cn\n",
        "data_4 = whisperX_seg_ws_data_ad + whisperX_seg_ws_data_cn\n",
        "data_5 = whisperX_ws_data_ad + whisperX_ws_data_cn\n",
        "\n",
        "texts_0, labels_0 = zip(*[(d['text'], d['label']) for d in data_0])\n",
        "texts_1, labels_1 = zip(*[(d['text'], d['label']) for d in data_1])\n",
        "texts_2, labels_2 = zip(*[(d['text'], d['label']) for d in data_2])\n",
        "texts_3, labels_3 = zip(*[(d['text'], d['label']) for d in data_3])\n",
        "texts_4, labels_4 = zip(*[(d['text'], d['label']) for d in data_4])\n",
        "texts_5, labels_5 = zip(*[(d['text'], d['label']) for d in data_5])\n",
        "\n",
        "x_train_0, x_test_0, y_train_0, y_test_0 = train_test_split(texts_0, labels_0, random_state = 0, stratify = labels_0)\n",
        "x_train_1, x_test_1, y_train_1, y_test_1 = train_test_split(texts_1, labels_1, random_state = 0, stratify = labels_1)\n",
        "x_train_2, x_test_2, y_train_2, y_test_2 = train_test_split(texts_2, labels_2, random_state = 0, stratify = labels_2)\n",
        "x_train_3, x_test_3, y_train_3, y_test_3 = train_test_split(texts_3, labels_3, random_state = 0, stratify = labels_3)\n",
        "x_train_4, x_test_4, y_train_4, y_test_4 = train_test_split(texts_4, labels_4, random_state = 0, stratify = labels_4)\n",
        "x_train_5, x_test_5, y_train_5, y_test_5 = train_test_split(texts_5, labels_5, random_state = 0, stratify = labels_5)"
      ]
    },
    {
      "cell_type": "code",
      "execution_count": null,
      "id": "a0c7074a",
      "metadata": {
        "id": "a0c7074a"
      },
      "outputs": [],
      "source": []
    },
    {
      "cell_type": "code",
      "execution_count": null,
      "id": "bb10ff99",
      "metadata": {
        "id": "bb10ff99",
        "outputId": "a5312aea-05e8-4e35-e4ff-744c1800a2f5",
        "colab": {
          "base_uri": "https://localhost:8080/"
        }
      },
      "outputs": [
        {
          "output_type": "stream",
          "name": "stdout",
          "text": [
            "Looking in indexes: https://pypi.org/simple, https://us-python.pkg.dev/colab-wheels/public/simple/\n",
            "Requirement already satisfied: transformers in /usr/local/lib/python3.8/dist-packages (4.26.1)\n",
            "Requirement already satisfied: regex!=2019.12.17 in /usr/local/lib/python3.8/dist-packages (from transformers) (2022.6.2)\n",
            "Requirement already satisfied: filelock in /usr/local/lib/python3.8/dist-packages (from transformers) (3.9.0)\n",
            "Requirement already satisfied: requests in /usr/local/lib/python3.8/dist-packages (from transformers) (2.25.1)\n",
            "Requirement already satisfied: tokenizers!=0.11.3,<0.14,>=0.11.1 in /usr/local/lib/python3.8/dist-packages (from transformers) (0.13.2)\n",
            "Requirement already satisfied: packaging>=20.0 in /usr/local/lib/python3.8/dist-packages (from transformers) (23.0)\n",
            "Requirement already satisfied: numpy>=1.17 in /usr/local/lib/python3.8/dist-packages (from transformers) (1.21.6)\n",
            "Requirement already satisfied: huggingface-hub<1.0,>=0.11.0 in /usr/local/lib/python3.8/dist-packages (from transformers) (0.12.1)\n",
            "Requirement already satisfied: tqdm>=4.27 in /usr/local/lib/python3.8/dist-packages (from transformers) (4.64.1)\n",
            "Requirement already satisfied: pyyaml>=5.1 in /usr/local/lib/python3.8/dist-packages (from transformers) (5.4.1)\n",
            "Requirement already satisfied: typing-extensions>=3.7.4.3 in /usr/local/lib/python3.8/dist-packages (from huggingface-hub<1.0,>=0.11.0->transformers) (4.5.0)\n",
            "Requirement already satisfied: idna<3,>=2.5 in /usr/local/lib/python3.8/dist-packages (from requests->transformers) (2.10)\n",
            "Requirement already satisfied: chardet<5,>=3.0.2 in /usr/local/lib/python3.8/dist-packages (from requests->transformers) (4.0.0)\n",
            "Requirement already satisfied: certifi>=2017.4.17 in /usr/local/lib/python3.8/dist-packages (from requests->transformers) (2022.12.7)\n",
            "Requirement already satisfied: urllib3<1.27,>=1.21.1 in /usr/local/lib/python3.8/dist-packages (from requests->transformers) (1.24.3)\n",
            "Looking in indexes: https://pypi.org/simple, https://us-python.pkg.dev/colab-wheels/public/simple/\n",
            "Requirement already satisfied: tensorflow_text in /usr/local/lib/python3.8/dist-packages (2.11.0)\n",
            "Requirement already satisfied: tensorflow-hub>=0.8.0 in /usr/local/lib/python3.8/dist-packages (from tensorflow_text) (0.12.0)\n",
            "Requirement already satisfied: tensorflow<2.12,>=2.11.0 in /usr/local/lib/python3.8/dist-packages (from tensorflow_text) (2.11.0)\n",
            "Requirement already satisfied: gast<=0.4.0,>=0.2.1 in /usr/local/lib/python3.8/dist-packages (from tensorflow<2.12,>=2.11.0->tensorflow_text) (0.4.0)\n",
            "Requirement already satisfied: opt-einsum>=2.3.2 in /usr/local/lib/python3.8/dist-packages (from tensorflow<2.12,>=2.11.0->tensorflow_text) (3.3.0)\n",
            "Requirement already satisfied: tensorflow-io-gcs-filesystem>=0.23.1 in /usr/local/lib/python3.8/dist-packages (from tensorflow<2.12,>=2.11.0->tensorflow_text) (0.30.0)\n",
            "Requirement already satisfied: protobuf<3.20,>=3.9.2 in /usr/local/lib/python3.8/dist-packages (from tensorflow<2.12,>=2.11.0->tensorflow_text) (3.19.6)\n",
            "Requirement already satisfied: absl-py>=1.0.0 in /usr/local/lib/python3.8/dist-packages (from tensorflow<2.12,>=2.11.0->tensorflow_text) (1.4.0)\n",
            "Requirement already satisfied: setuptools in /usr/local/lib/python3.8/dist-packages (from tensorflow<2.12,>=2.11.0->tensorflow_text) (57.4.0)\n",
            "Requirement already satisfied: numpy>=1.20 in /usr/local/lib/python3.8/dist-packages (from tensorflow<2.12,>=2.11.0->tensorflow_text) (1.21.6)\n",
            "Requirement already satisfied: six>=1.12.0 in /usr/local/lib/python3.8/dist-packages (from tensorflow<2.12,>=2.11.0->tensorflow_text) (1.15.0)\n",
            "Requirement already satisfied: libclang>=13.0.0 in /usr/local/lib/python3.8/dist-packages (from tensorflow<2.12,>=2.11.0->tensorflow_text) (15.0.6.1)\n",
            "Requirement already satisfied: tensorboard<2.12,>=2.11 in /usr/local/lib/python3.8/dist-packages (from tensorflow<2.12,>=2.11.0->tensorflow_text) (2.11.2)\n",
            "Requirement already satisfied: packaging in /usr/local/lib/python3.8/dist-packages (from tensorflow<2.12,>=2.11.0->tensorflow_text) (23.0)\n",
            "Requirement already satisfied: tensorflow-estimator<2.12,>=2.11.0 in /usr/local/lib/python3.8/dist-packages (from tensorflow<2.12,>=2.11.0->tensorflow_text) (2.11.0)\n",
            "Requirement already satisfied: flatbuffers>=2.0 in /usr/local/lib/python3.8/dist-packages (from tensorflow<2.12,>=2.11.0->tensorflow_text) (23.1.21)\n",
            "Requirement already satisfied: wrapt>=1.11.0 in /usr/local/lib/python3.8/dist-packages (from tensorflow<2.12,>=2.11.0->tensorflow_text) (1.14.1)\n",
            "Requirement already satisfied: google-pasta>=0.1.1 in /usr/local/lib/python3.8/dist-packages (from tensorflow<2.12,>=2.11.0->tensorflow_text) (0.2.0)\n",
            "Requirement already satisfied: typing-extensions>=3.6.6 in /usr/local/lib/python3.8/dist-packages (from tensorflow<2.12,>=2.11.0->tensorflow_text) (4.5.0)\n",
            "Requirement already satisfied: grpcio<2.0,>=1.24.3 in /usr/local/lib/python3.8/dist-packages (from tensorflow<2.12,>=2.11.0->tensorflow_text) (1.51.1)\n",
            "Requirement already satisfied: astunparse>=1.6.0 in /usr/local/lib/python3.8/dist-packages (from tensorflow<2.12,>=2.11.0->tensorflow_text) (1.6.3)\n",
            "Requirement already satisfied: h5py>=2.9.0 in /usr/local/lib/python3.8/dist-packages (from tensorflow<2.12,>=2.11.0->tensorflow_text) (3.1.0)\n",
            "Requirement already satisfied: keras<2.12,>=2.11.0 in /usr/local/lib/python3.8/dist-packages (from tensorflow<2.12,>=2.11.0->tensorflow_text) (2.11.0)\n",
            "Requirement already satisfied: termcolor>=1.1.0 in /usr/local/lib/python3.8/dist-packages (from tensorflow<2.12,>=2.11.0->tensorflow_text) (2.2.0)\n",
            "Requirement already satisfied: wheel<1.0,>=0.23.0 in /usr/local/lib/python3.8/dist-packages (from astunparse>=1.6.0->tensorflow<2.12,>=2.11.0->tensorflow_text) (0.38.4)\n",
            "Requirement already satisfied: tensorboard-data-server<0.7.0,>=0.6.0 in /usr/local/lib/python3.8/dist-packages (from tensorboard<2.12,>=2.11->tensorflow<2.12,>=2.11.0->tensorflow_text) (0.6.1)\n",
            "Requirement already satisfied: werkzeug>=1.0.1 in /usr/local/lib/python3.8/dist-packages (from tensorboard<2.12,>=2.11->tensorflow<2.12,>=2.11.0->tensorflow_text) (1.0.1)\n",
            "Requirement already satisfied: google-auth<3,>=1.6.3 in /usr/local/lib/python3.8/dist-packages (from tensorboard<2.12,>=2.11->tensorflow<2.12,>=2.11.0->tensorflow_text) (2.16.0)\n",
            "Requirement already satisfied: tensorboard-plugin-wit>=1.6.0 in /usr/local/lib/python3.8/dist-packages (from tensorboard<2.12,>=2.11->tensorflow<2.12,>=2.11.0->tensorflow_text) (1.8.1)\n",
            "Requirement already satisfied: markdown>=2.6.8 in /usr/local/lib/python3.8/dist-packages (from tensorboard<2.12,>=2.11->tensorflow<2.12,>=2.11.0->tensorflow_text) (3.4.1)\n",
            "Requirement already satisfied: google-auth-oauthlib<0.5,>=0.4.1 in /usr/local/lib/python3.8/dist-packages (from tensorboard<2.12,>=2.11->tensorflow<2.12,>=2.11.0->tensorflow_text) (0.4.6)\n",
            "Requirement already satisfied: requests<3,>=2.21.0 in /usr/local/lib/python3.8/dist-packages (from tensorboard<2.12,>=2.11->tensorflow<2.12,>=2.11.0->tensorflow_text) (2.25.1)\n",
            "Requirement already satisfied: pyasn1-modules>=0.2.1 in /usr/local/lib/python3.8/dist-packages (from google-auth<3,>=1.6.3->tensorboard<2.12,>=2.11->tensorflow<2.12,>=2.11.0->tensorflow_text) (0.2.8)\n",
            "Requirement already satisfied: rsa<5,>=3.1.4 in /usr/local/lib/python3.8/dist-packages (from google-auth<3,>=1.6.3->tensorboard<2.12,>=2.11->tensorflow<2.12,>=2.11.0->tensorflow_text) (4.9)\n",
            "Requirement already satisfied: cachetools<6.0,>=2.0.0 in /usr/local/lib/python3.8/dist-packages (from google-auth<3,>=1.6.3->tensorboard<2.12,>=2.11->tensorflow<2.12,>=2.11.0->tensorflow_text) (5.3.0)\n",
            "Requirement already satisfied: requests-oauthlib>=0.7.0 in /usr/local/lib/python3.8/dist-packages (from google-auth-oauthlib<0.5,>=0.4.1->tensorboard<2.12,>=2.11->tensorflow<2.12,>=2.11.0->tensorflow_text) (1.3.1)\n",
            "Requirement already satisfied: importlib-metadata>=4.4 in /usr/local/lib/python3.8/dist-packages (from markdown>=2.6.8->tensorboard<2.12,>=2.11->tensorflow<2.12,>=2.11.0->tensorflow_text) (6.0.0)\n",
            "Requirement already satisfied: chardet<5,>=3.0.2 in /usr/local/lib/python3.8/dist-packages (from requests<3,>=2.21.0->tensorboard<2.12,>=2.11->tensorflow<2.12,>=2.11.0->tensorflow_text) (4.0.0)\n",
            "Requirement already satisfied: certifi>=2017.4.17 in /usr/local/lib/python3.8/dist-packages (from requests<3,>=2.21.0->tensorboard<2.12,>=2.11->tensorflow<2.12,>=2.11.0->tensorflow_text) (2022.12.7)\n",
            "Requirement already satisfied: urllib3<1.27,>=1.21.1 in /usr/local/lib/python3.8/dist-packages (from requests<3,>=2.21.0->tensorboard<2.12,>=2.11->tensorflow<2.12,>=2.11.0->tensorflow_text) (1.24.3)\n",
            "Requirement already satisfied: idna<3,>=2.5 in /usr/local/lib/python3.8/dist-packages (from requests<3,>=2.21.0->tensorboard<2.12,>=2.11->tensorflow<2.12,>=2.11.0->tensorflow_text) (2.10)\n",
            "Requirement already satisfied: zipp>=0.5 in /usr/local/lib/python3.8/dist-packages (from importlib-metadata>=4.4->markdown>=2.6.8->tensorboard<2.12,>=2.11->tensorflow<2.12,>=2.11.0->tensorflow_text) (3.13.0)\n",
            "Requirement already satisfied: pyasn1<0.5.0,>=0.4.6 in /usr/local/lib/python3.8/dist-packages (from pyasn1-modules>=0.2.1->google-auth<3,>=1.6.3->tensorboard<2.12,>=2.11->tensorflow<2.12,>=2.11.0->tensorflow_text) (0.4.8)\n",
            "Requirement already satisfied: oauthlib>=3.0.0 in /usr/local/lib/python3.8/dist-packages (from requests-oauthlib>=0.7.0->google-auth-oauthlib<0.5,>=0.4.1->tensorboard<2.12,>=2.11->tensorflow<2.12,>=2.11.0->tensorflow_text) (3.2.2)\n"
          ]
        }
      ],
      "source": [
        "!pip install transformers\n",
        "#!pip install tensorflow_hub\n",
        "!pip install tensorflow_text\n",
        "from transformers import BertTokenizer, TFBertModel\n",
        "\n",
        "import tensorflow as tf\n",
        "import tensorflow_hub as hub\n",
        "import tensorflow_text as text\n",
        "#tokenizer = BertTokenizer.from_pretrained('bert-base-uncased')\n",
        "#bert_model = TFBertModel.from_pretrained(\"bert-base-uncased\")\n",
        "# bert_preprocess = hub.KerasLayer(\"https://tfhub.dev/tensorflow/bert_en_uncased_preprocess/3\")\n",
        "# bert_encoder = hub.KerasLayer(\"https://tfhub.dev/tensorflow/bert_en_uncased_L-12_H-768_A-12/4\")"
      ]
    },
    {
      "cell_type": "code",
      "execution_count": null,
      "id": "356a85da",
      "metadata": {
        "scrolled": true,
        "id": "356a85da"
      },
      "outputs": [],
      "source": [
        "\n"
      ]
    },
    {
      "cell_type": "code",
      "execution_count": null,
      "id": "a5bdd5a2",
      "metadata": {
        "id": "a5bdd5a2"
      },
      "outputs": [],
      "source": [
        "# # Bert layers\n",
        "# text_input = tf.keras.layers.Input(shape=(), dtype=tf.string, name='text')\n",
        "# preprocessed_text = bert_preprocess(text_input)\n",
        "# outputs = bert_encoder(preprocessed_text)\n",
        "\n",
        "# # Neural network layers\n",
        "# l = tf.keras.layers.Dropout(0.01, name=\"dropout\")(outputs['pooled_output'])\n",
        "# l2 = tf.keras.layers.Dense(1, activation='sigmoid', name=\"output\")(l)\n",
        "\n",
        "# # Use inputs and outputs to construct a final model\n",
        "# model = tf.keras.Model(inputs=[text_input], outputs = [l2])\n",
        "\n",
        "def build_classifier_model():\n",
        "  bert_preprocess = hub.KerasLayer(\"https://tfhub.dev/tensorflow/bert_en_uncased_preprocess/3\", name='preprocessing')\n",
        "  bert_encoder = hub.KerasLayer(\"https://tfhub.dev/tensorflow/bert_en_uncased_L-12_H-768_A-12/4\", trainable=True, name='BERT_encoder')\n",
        "  text_input = tf.keras.layers.Input(shape=(), dtype=tf.string, name='text')\n",
        "  preprocessing_layer = bert_preprocess\n",
        "  encoder_inputs = preprocessing_layer(text_input)\n",
        "  encoder = bert_encoder\n",
        "  outputs = encoder(encoder_inputs)\n",
        "  net = outputs['pooled_output']\n",
        "  net = tf.keras.layers.Dropout(0.1)(net)\n",
        "  net = tf.keras.layers.Dense(1, activation=\"sigmoid\", name='classifier')(net)\n",
        "  return tf.keras.Model(text_input, net)"
      ]
    },
    {
      "cell_type": "code",
      "execution_count": null,
      "id": "f50b669e",
      "metadata": {
        "id": "f50b669e",
        "colab": {
          "base_uri": "https://localhost:8080/"
        },
        "outputId": "de77ef7e-ca50-459b-8446-3002923e0a56"
      },
      "outputs": [
        {
          "output_type": "stream",
          "name": "stderr",
          "text": [
            "WARNING:tensorflow:Please fix your imports. Module tensorflow.python.training.tracking.data_structures has been moved to tensorflow.python.trackable.data_structures. The old module will be deleted in version 2.11.\n",
            "WARNING:tensorflow:From /usr/local/lib/python3.8/dist-packages/tensorflow/python/autograph/pyct/static_analysis/liveness.py:83: Analyzer.lamba_check (from tensorflow.python.autograph.pyct.static_analysis.liveness) is deprecated and will be removed after 2023-09-23.\n",
            "Instructions for updating:\n",
            "Lambda fuctions will be no more assumed to be used in the statement where they are used, or at least in the same block. https://github.com/tensorflow/tensorflow/issues/56089\n"
          ]
        },
        {
          "output_type": "stream",
          "name": "stdout",
          "text": [
            "Model: \"model\"\n",
            "__________________________________________________________________________________________________\n",
            " Layer (type)                   Output Shape         Param #     Connected to                     \n",
            "==================================================================================================\n",
            " text (InputLayer)              [(None,)]            0           []                               \n",
            "                                                                                                  \n",
            " preprocessing (KerasLayer)     {'input_mask': (Non  0           ['text[0][0]']                   \n",
            "                                e, 128),                                                          \n",
            "                                 'input_word_ids':                                                \n",
            "                                (None, 128),                                                      \n",
            "                                 'input_type_ids':                                                \n",
            "                                (None, 128)}                                                      \n",
            "                                                                                                  \n",
            " BERT_encoder (KerasLayer)      {'pooled_output': (  109482241   ['preprocessing[0][0]',          \n",
            "                                None, 768),                       'preprocessing[0][1]',          \n",
            "                                 'default': (None,                'preprocessing[0][2]']          \n",
            "                                768),                                                             \n",
            "                                 'sequence_output':                                               \n",
            "                                 (None, 128, 768),                                                \n",
            "                                 'encoder_outputs':                                               \n",
            "                                 [(None, 128, 768),                                               \n",
            "                                 (None, 128, 768),                                                \n",
            "                                 (None, 128, 768),                                                \n",
            "                                 (None, 128, 768),                                                \n",
            "                                 (None, 128, 768),                                                \n",
            "                                 (None, 128, 768),                                                \n",
            "                                 (None, 128, 768),                                                \n",
            "                                 (None, 128, 768),                                                \n",
            "                                 (None, 128, 768),                                                \n",
            "                                 (None, 128, 768),                                                \n",
            "                                 (None, 128, 768),                                                \n",
            "                                 (None, 128, 768)]}                                               \n",
            "                                                                                                  \n",
            " dropout (Dropout)              (None, 768)          0           ['BERT_encoder[0][13]']          \n",
            "                                                                                                  \n",
            " classifier (Dense)             (None, 1)            769         ['dropout[0][0]']                \n",
            "                                                                                                  \n",
            "==================================================================================================\n",
            "Total params: 109,483,010\n",
            "Trainable params: 109,483,009\n",
            "Non-trainable params: 1\n",
            "__________________________________________________________________________________________________\n"
          ]
        }
      ],
      "source": [
        "#model_0 = build_classifier_model()\n",
        "#model_1 = build_classifier_model()\n",
        "model_2 = build_classifier_model()\n",
        "model_3 = build_classifier_model()\n",
        "model_4 = build_classifier_model()\n",
        "#model_5 = build_classifier_model()\n",
        "model_2.summary()"
      ]
    },
    {
      "cell_type": "code",
      "source": [
        "!pip install -q tf-models-official\n",
        "\n",
        "from official.nlp import optimization\n",
        "\n",
        "# loss = tf.keras.losses.BinaryCrossentropy(from_logits=True)\n",
        "metrics = tf.metrics.BinaryAccuracy()\n",
        "\n",
        "epochs = 20\n",
        "steps_per_epoch = 200\n",
        "num_train_steps = steps_per_epoch * epochs\n",
        "num_warmup_steps = int(0.1*num_train_steps)\n",
        "init_lr = 3e-5\n",
        "# METRICS = [\n",
        "#       tf.keras.metrics.Accuracy(name='accuracy'),\n",
        "#       tf.keras.metrics.Precision(name='precision'),\n",
        "#       tf.keras.metrics.Recall(name='recall')\n",
        "# ]\n",
        "optimizer = optimization.create_optimizer(init_lr=init_lr,\n",
        "                                          num_train_steps=num_train_steps,\n",
        "                                          num_warmup_steps=num_warmup_steps,\n",
        "                                          optimizer_type='adamw')\n"
      ],
      "metadata": {
        "id": "wmli2cMtNS-D"
      },
      "id": "wmli2cMtNS-D",
      "execution_count": null,
      "outputs": []
    },
    {
      "cell_type": "code",
      "source": [
        "#training models 2\n",
        "model_2.compile(optimizer=optimizer,\n",
        "              loss='binary_crossentropy',\n",
        "              metrics=metrics)\n",
        "model_2.fit(x_train_2, y_train_2, epochs=epochs)"
      ],
      "metadata": {
        "colab": {
          "base_uri": "https://localhost:8080/"
        },
        "id": "AA56eOu1Nb_K",
        "outputId": "341826e6-5246-4740-ee9e-b610f823a661"
      },
      "id": "AA56eOu1Nb_K",
      "execution_count": null,
      "outputs": [
        {
          "output_type": "stream",
          "name": "stdout",
          "text": [
            "Epoch 1/20\n",
            "4/4 [==============================] - 45s 962ms/step - loss: 0.7454 - binary_accuracy: 0.5081\n",
            "Epoch 2/20\n",
            "4/4 [==============================] - 3s 833ms/step - loss: 0.7175 - binary_accuracy: 0.4919\n",
            "Epoch 3/20\n",
            "4/4 [==============================] - 3s 832ms/step - loss: 0.7140 - binary_accuracy: 0.5161\n",
            "Epoch 4/20\n",
            "4/4 [==============================] - 4s 890ms/step - loss: 0.6985 - binary_accuracy: 0.5242\n",
            "Epoch 5/20\n",
            "4/4 [==============================] - 3s 839ms/step - loss: 0.6918 - binary_accuracy: 0.5242\n",
            "Epoch 6/20\n",
            "4/4 [==============================] - 3s 844ms/step - loss: 0.6650 - binary_accuracy: 0.5968\n",
            "Epoch 7/20\n",
            "4/4 [==============================] - 4s 897ms/step - loss: 0.6641 - binary_accuracy: 0.6371\n",
            "Epoch 8/20\n",
            "4/4 [==============================] - 3s 842ms/step - loss: 0.6565 - binary_accuracy: 0.5726\n",
            "Epoch 9/20\n",
            "4/4 [==============================] - 3s 844ms/step - loss: 0.6353 - binary_accuracy: 0.6129\n",
            "Epoch 10/20\n",
            "4/4 [==============================] - 4s 881ms/step - loss: 0.6168 - binary_accuracy: 0.7097\n",
            "Epoch 11/20\n",
            "4/4 [==============================] - 4s 868ms/step - loss: 0.6080 - binary_accuracy: 0.6613\n",
            "Epoch 12/20\n",
            "4/4 [==============================] - 4s 888ms/step - loss: 0.5656 - binary_accuracy: 0.7177\n",
            "Epoch 13/20\n",
            "4/4 [==============================] - 4s 857ms/step - loss: 0.5458 - binary_accuracy: 0.7500\n",
            "Epoch 14/20\n",
            "4/4 [==============================] - 4s 953ms/step - loss: 0.4942 - binary_accuracy: 0.7823\n",
            "Epoch 15/20\n",
            "4/4 [==============================] - 4s 851ms/step - loss: 0.4898 - binary_accuracy: 0.8145\n",
            "Epoch 16/20\n",
            "4/4 [==============================] - 3s 870ms/step - loss: 0.4432 - binary_accuracy: 0.8306\n",
            "Epoch 17/20\n",
            "4/4 [==============================] - 4s 906ms/step - loss: 0.3995 - binary_accuracy: 0.8468\n",
            "Epoch 18/20\n",
            "4/4 [==============================] - 4s 934ms/step - loss: 0.3767 - binary_accuracy: 0.8387\n",
            "Epoch 19/20\n",
            "4/4 [==============================] - 4s 956ms/step - loss: 0.3303 - binary_accuracy: 0.8871\n",
            "Epoch 20/20\n",
            "4/4 [==============================] - 4s 1s/step - loss: 0.3222 - binary_accuracy: 0.9435\n"
          ]
        },
        {
          "output_type": "execute_result",
          "data": {
            "text/plain": [
              "<keras.callbacks.History at 0x7f272e913610>"
            ]
          },
          "metadata": {},
          "execution_count": 13
        }
      ]
    },
    {
      "cell_type": "code",
      "source": [
        "#training models 3\n",
        "optimizer = optimization.create_optimizer(init_lr=init_lr,\n",
        "                                          num_train_steps=num_train_steps,\n",
        "                                          num_warmup_steps=num_warmup_steps,\n",
        "                                          optimizer_type='adamw')\n",
        "model_3 = build_classifier_model()\n",
        "model_3.compile(optimizer=optimizer,\n",
        "              loss='binary_crossentropy',\n",
        "              metrics=metrics)\n",
        "model_3.fit(x_train_3, y_train_3, epochs=epochs)"
      ],
      "metadata": {
        "colab": {
          "base_uri": "https://localhost:8080/"
        },
        "id": "etkZN8qdTenw",
        "outputId": "87638ae3-a97d-4f2b-ebee-ffde50eb5321"
      },
      "id": "etkZN8qdTenw",
      "execution_count": null,
      "outputs": [
        {
          "output_type": "stream",
          "name": "stdout",
          "text": [
            "Epoch 1/20\n",
            "12/12 [==============================] - 53s 976ms/step - loss: 0.6950 - binary_accuracy: 0.6260\n",
            "Epoch 2/20\n",
            "12/12 [==============================] - 12s 991ms/step - loss: 0.5918 - binary_accuracy: 0.6979\n",
            "Epoch 3/20\n",
            "12/12 [==============================] - 11s 940ms/step - loss: 0.5273 - binary_accuracy: 0.7526\n",
            "Epoch 4/20\n",
            "12/12 [==============================] - 11s 904ms/step - loss: 0.4369 - binary_accuracy: 0.8411\n",
            "Epoch 5/20\n",
            "12/12 [==============================] - 11s 918ms/step - loss: 0.3368 - binary_accuracy: 0.9036\n",
            "Epoch 6/20\n",
            "12/12 [==============================] - 11s 900ms/step - loss: 0.2674 - binary_accuracy: 0.9193\n",
            "Epoch 7/20\n",
            "12/12 [==============================] - 11s 901ms/step - loss: 0.1825 - binary_accuracy: 0.9531\n",
            "Epoch 8/20\n",
            "12/12 [==============================] - 11s 911ms/step - loss: 0.1326 - binary_accuracy: 0.9635\n",
            "Epoch 9/20\n",
            "12/12 [==============================] - 11s 916ms/step - loss: 0.1257 - binary_accuracy: 0.9661\n",
            "Epoch 10/20\n",
            "12/12 [==============================] - 11s 916ms/step - loss: 0.0827 - binary_accuracy: 0.9766\n",
            "Epoch 11/20\n",
            "12/12 [==============================] - 11s 888ms/step - loss: 0.0334 - binary_accuracy: 0.9922\n",
            "Epoch 12/20\n",
            "12/12 [==============================] - 11s 904ms/step - loss: 0.0179 - binary_accuracy: 0.9974\n",
            "Epoch 13/20\n",
            "12/12 [==============================] - 11s 889ms/step - loss: 0.0198 - binary_accuracy: 0.9948\n",
            "Epoch 14/20\n",
            "12/12 [==============================] - 11s 923ms/step - loss: 0.0078 - binary_accuracy: 1.0000\n",
            "Epoch 15/20\n",
            "12/12 [==============================] - 11s 895ms/step - loss: 0.0154 - binary_accuracy: 0.9974\n",
            "Epoch 16/20\n",
            "12/12 [==============================] - 12s 994ms/step - loss: 0.0241 - binary_accuracy: 0.9896\n",
            "Epoch 17/20\n",
            "12/12 [==============================] - 11s 945ms/step - loss: 0.0482 - binary_accuracy: 0.9844\n",
            "Epoch 18/20\n",
            "12/12 [==============================] - 11s 917ms/step - loss: 0.0137 - binary_accuracy: 0.9948\n",
            "Epoch 19/20\n",
            "12/12 [==============================] - 11s 904ms/step - loss: 0.0012 - binary_accuracy: 1.0000\n",
            "Epoch 20/20\n",
            "12/12 [==============================] - 11s 897ms/step - loss: 7.7778e-04 - binary_accuracy: 1.0000\n"
          ]
        },
        {
          "output_type": "execute_result",
          "data": {
            "text/plain": [
              "<keras.callbacks.History at 0x7f272f29daf0>"
            ]
          },
          "metadata": {},
          "execution_count": 14
        }
      ]
    },
    {
      "cell_type": "code",
      "source": [
        "#training models 4\n",
        "optimizer = optimization.create_optimizer(init_lr=init_lr,\n",
        "                                          num_train_steps=num_train_steps,\n",
        "                                          num_warmup_steps=num_warmup_steps,\n",
        "                                          optimizer_type='adamw')\n",
        "model_4 = build_classifier_model()\n",
        "model_4.compile(optimizer=optimizer,\n",
        "              loss='binary_crossentropy',\n",
        "              metrics=metrics)\n",
        "model_4.fit(x_train_4, y_train_4, epochs=epochs)"
      ],
      "metadata": {
        "colab": {
          "base_uri": "https://localhost:8080/"
        },
        "id": "E5g6bZGfTg4s",
        "outputId": "1ba4a0cc-81da-4643-ee99-68ecf0519355"
      },
      "id": "E5g6bZGfTg4s",
      "execution_count": null,
      "outputs": [
        {
          "output_type": "stream",
          "name": "stdout",
          "text": [
            "Epoch 1/20\n",
            "12/12 [==============================] - 36s 907ms/step - loss: 0.6448 - binary_accuracy: 0.8203\n",
            "Epoch 2/20\n",
            "12/12 [==============================] - 11s 903ms/step - loss: 0.4552 - binary_accuracy: 0.7995\n",
            "Epoch 3/20\n",
            "12/12 [==============================] - 11s 933ms/step - loss: 0.2211 - binary_accuracy: 0.9271\n",
            "Epoch 4/20\n",
            "12/12 [==============================] - 11s 915ms/step - loss: 0.1241 - binary_accuracy: 0.9557\n",
            "Epoch 5/20\n",
            "12/12 [==============================] - 11s 928ms/step - loss: 0.0882 - binary_accuracy: 0.9661\n",
            "Epoch 6/20\n",
            "12/12 [==============================] - 11s 895ms/step - loss: 0.0619 - binary_accuracy: 0.9818\n",
            "Epoch 7/20\n",
            "12/12 [==============================] - 11s 909ms/step - loss: 0.0388 - binary_accuracy: 0.9870\n",
            "Epoch 8/20\n",
            "12/12 [==============================] - 11s 921ms/step - loss: 0.0317 - binary_accuracy: 0.9818\n",
            "Epoch 9/20\n",
            "12/12 [==============================] - 11s 909ms/step - loss: 0.0300 - binary_accuracy: 0.9896\n",
            "Epoch 10/20\n",
            "12/12 [==============================] - 11s 912ms/step - loss: 0.0238 - binary_accuracy: 0.9896\n",
            "Epoch 11/20\n",
            "12/12 [==============================] - 11s 922ms/step - loss: 0.0202 - binary_accuracy: 0.9922\n",
            "Epoch 12/20\n",
            "12/12 [==============================] - 11s 889ms/step - loss: 0.0204 - binary_accuracy: 0.9922\n",
            "Epoch 13/20\n",
            "12/12 [==============================] - 11s 912ms/step - loss: 0.0209 - binary_accuracy: 0.9896\n",
            "Epoch 14/20\n",
            "12/12 [==============================] - 11s 900ms/step - loss: 0.0169 - binary_accuracy: 0.9922\n",
            "Epoch 15/20\n",
            "12/12 [==============================] - 11s 883ms/step - loss: 0.0207 - binary_accuracy: 0.9922\n",
            "Epoch 16/20\n",
            "12/12 [==============================] - 11s 893ms/step - loss: 0.0313 - binary_accuracy: 0.9844\n",
            "Epoch 17/20\n",
            "12/12 [==============================] - 11s 920ms/step - loss: 0.0197 - binary_accuracy: 0.9948\n",
            "Epoch 18/20\n",
            "12/12 [==============================] - 11s 907ms/step - loss: 0.0169 - binary_accuracy: 0.9922\n",
            "Epoch 19/20\n",
            "12/12 [==============================] - 11s 915ms/step - loss: 0.0184 - binary_accuracy: 0.9922\n",
            "Epoch 20/20\n",
            "12/12 [==============================] - 11s 896ms/step - loss: 0.0230 - binary_accuracy: 0.9870\n"
          ]
        },
        {
          "output_type": "execute_result",
          "data": {
            "text/plain": [
              "<keras.callbacks.History at 0x7f26316d6fa0>"
            ]
          },
          "metadata": {},
          "execution_count": 15
        }
      ]
    },
    {
      "cell_type": "code",
      "source": [],
      "metadata": {
        "id": "T4oIPlSaTnWC"
      },
      "id": "T4oIPlSaTnWC",
      "execution_count": null,
      "outputs": []
    },
    {
      "cell_type": "code",
      "source": [],
      "metadata": {
        "id": "0I-ah1iqTszA"
      },
      "id": "0I-ah1iqTszA",
      "execution_count": null,
      "outputs": []
    },
    {
      "cell_type": "code",
      "source": [],
      "metadata": {
        "id": "TMfESJEkTvcl"
      },
      "id": "TMfESJEkTvcl",
      "execution_count": null,
      "outputs": []
    },
    {
      "cell_type": "code",
      "source": [
        "from matplotlib import pyplot as plt\n",
        "import seaborn as sn\n",
        "from sklearn.metrics import confusion_matrix, classification_report\n",
        "import numpy as np\n",
        "\n",
        "model_2.evaluate(x_test_2, y_test_2)"
      ],
      "metadata": {
        "colab": {
          "base_uri": "https://localhost:8080/"
        },
        "id": "_wGVLr85NoQl",
        "outputId": "b08ef516-c118-4f87-82f8-01ab555b8fb2"
      },
      "id": "_wGVLr85NoQl",
      "execution_count": null,
      "outputs": [
        {
          "output_type": "stream",
          "name": "stdout",
          "text": [
            "2/2 [==============================] - 2s 118ms/step - loss: 0.5516 - binary_accuracy: 0.7143\n"
          ]
        },
        {
          "output_type": "execute_result",
          "data": {
            "text/plain": [
              "[0.5516329407691956, 0.7142857313156128]"
            ]
          },
          "metadata": {},
          "execution_count": 16
        }
      ]
    },
    {
      "cell_type": "code",
      "source": [
        "model_3.evaluate(x_test_3, y_test_3)"
      ],
      "metadata": {
        "colab": {
          "base_uri": "https://localhost:8080/"
        },
        "id": "Vu2HesnYsSHB",
        "outputId": "7810966d-76ba-4697-b435-cb78f1f6a86e"
      },
      "id": "Vu2HesnYsSHB",
      "execution_count": null,
      "outputs": [
        {
          "output_type": "stream",
          "name": "stdout",
          "text": [
            "5/5 [==============================] - 2s 251ms/step - loss: 1.6139 - binary_accuracy: 0.7209\n"
          ]
        },
        {
          "output_type": "execute_result",
          "data": {
            "text/plain": [
              "[1.6138954162597656, 0.7209302186965942]"
            ]
          },
          "metadata": {},
          "execution_count": 18
        }
      ]
    },
    {
      "cell_type": "code",
      "source": [
        "model_4.evaluate(x_test_4, y_test_4)"
      ],
      "metadata": {
        "colab": {
          "base_uri": "https://localhost:8080/"
        },
        "id": "HPqwboZhsS68",
        "outputId": "9aa43b92-04cf-468b-fe45-bbe71939c688"
      },
      "id": "HPqwboZhsS68",
      "execution_count": null,
      "outputs": [
        {
          "output_type": "stream",
          "name": "stdout",
          "text": [
            "5/5 [==============================] - 3s 290ms/step - loss: 1.5625 - binary_accuracy: 0.7752\n"
          ]
        },
        {
          "output_type": "execute_result",
          "data": {
            "text/plain": [
              "[1.5625059604644775, 0.7751938104629517]"
            ]
          },
          "metadata": {},
          "execution_count": 19
        }
      ]
    },
    {
      "cell_type": "code",
      "source": [
        "y_predicted_2 = model_2.predict(x_test_2)\n",
        "y_predicted_2 = np.round(y_predicted_2).flatten()\n",
        "\n",
        "y_predicted_3 = model_3.predict(x_test_3)\n",
        "y_predicted_3 = np.round(y_predicted_3).flatten()\n",
        "\n",
        "y_predicted_4 = model_4.predict(x_test_4)\n",
        "y_predicted_4 = np.round(y_predicted_4).flatten()\n",
        "\n",
        "\n",
        "cm_2 = confusion_matrix(y_test_2, y_predicted_2)\n",
        "cm_3 = confusion_matrix(y_test_3, y_predicted_3)\n",
        "cm_4 = confusion_matrix(y_test_4, y_predicted_4)\n",
        "\n",
        "# Créer une grille de subplots pour afficher les matrices de confusion\n",
        "fig, axes = plt.subplots(nrows=1, ncols=3, figsize=(20, 3))\n",
        "\n",
        "# Afficher chaque matrice de confusion dans un subplot différent\n",
        "sn.heatmap(cm_2, ax=axes[0], annot=True, cmap=\"Blues\", fmt='g')\n",
        "sn.heatmap(cm_3, ax=axes[1], annot=True, cmap=\"Blues\", fmt='g')\n",
        "sn.heatmap(cm_4, ax=axes[2], annot=True, cmap=\"Blues\", fmt='g')\n",
        "\n",
        "axes[0].set_xlabel('Prédiction')\n",
        "axes[0].set_ylabel('Réel')\n",
        "axes[0].set_title('Matrice de confusion 2 : données de whisperX')\n",
        "\n",
        "axes[1].set_xlabel('Prédiction')\n",
        "axes[1].set_ylabel('Réel')\n",
        "axes[1].set_title('Matrice de confusion 3 : données de whisperX_seg')\n",
        "\n",
        "axes[2].set_xlabel('Prédiction')\n",
        "axes[2].set_ylabel('Réel')\n",
        "axes[2].set_title('Matrice de confusion 4 : données de whisperX_seg_ws')\n",
        "\n",
        "\n",
        "\n",
        "plt.tight_layout()\n",
        "plt.show()\n",
        "\n"
      ],
      "metadata": {
        "colab": {
          "base_uri": "https://localhost:8080/",
          "height": 277
        },
        "id": "aw1V23xaN6_i",
        "outputId": "da4b85f6-2d47-4afe-88b2-e4c699db1bf6"
      },
      "id": "aw1V23xaN6_i",
      "execution_count": null,
      "outputs": [
        {
          "output_type": "stream",
          "name": "stdout",
          "text": [
            "2/2 [==============================] - 0s 341ms/step\n",
            "5/5 [==============================] - 1s 302ms/step\n",
            "5/5 [==============================] - 1s 304ms/step\n"
          ]
        },
        {
          "output_type": "display_data",
          "data": {
            "text/plain": [
              "<Figure size 1440x216 with 6 Axes>"
            ],
            "image/png": "[encoded data removed]"
          },
          "metadata": {
            "needs_background": "light"
          }
        }
      ]
    },
    {
      "cell_type": "code",
      "source": [
        "\n"
      ],
      "metadata": {
        "id": "XOXibT_CN7a0"
      },
      "id": "XOXibT_CN7a0",
      "execution_count": null,
      "outputs": []
    },
    {
      "cell_type": "code",
      "source": [
        "\n"
      ],
      "metadata": {
        "id": "mhLCYlVhOBvB"
      },
      "id": "mhLCYlVhOBvB",
      "execution_count": null,
      "outputs": []
    },
    {
      "cell_type": "code",
      "source": [
        "print(classification_report(y_test_2, y_predicted_2))"
      ],
      "metadata": {
        "colab": {
          "base_uri": "https://localhost:8080/"
        },
        "id": "Xh4hui1aOCop",
        "outputId": "d1bcd3bd-dfd9-43dd-fb6a-4e8bff1d0a35"
      },
      "id": "Xh4hui1aOCop",
      "execution_count": null,
      "outputs": [
        {
          "output_type": "stream",
          "name": "stdout",
          "text": [
            "              precision    recall  f1-score   support\n",
            "\n",
            "           0       0.72      0.65      0.68        20\n",
            "           1       0.71      0.77      0.74        22\n",
            "\n",
            "    accuracy                           0.71        42\n",
            "   macro avg       0.72      0.71      0.71        42\n",
            "weighted avg       0.71      0.71      0.71        42\n",
            "\n"
          ]
        }
      ]
    },
    {
      "cell_type": "code",
      "source": [],
      "metadata": {
        "id": "jWORxttXODzd",
        "colab": {
          "base_uri": "https://localhost:8080/"
        },
        "outputId": "6c16d84d-7138-4940-fe33-001270664347"
      },
      "id": "jWORxttXODzd",
      "execution_count": null,
      "outputs": [
        {
          "output_type": "stream",
          "name": "stdout",
          "text": [
            "1/1 [==============================] - 0s 74ms/step\n"
          ]
        },
        {
          "output_type": "execute_result",
          "data": {
            "text/plain": [
              "array([[0.99622923]], dtype=float32)"
            ]
          },
          "metadata": {},
          "execution_count": 72
        }
      ]
    },
    {
      "cell_type": "code",
      "source": [],
      "metadata": {
        "id": "Itpxrs4QOWop"
      },
      "id": "Itpxrs4QOWop",
      "execution_count": null,
      "outputs": []
    }
  ],
  "metadata": {
    "kernelspec": {
      "display_name": "Python 3 (ipykernel)",
      "language": "python",
      "name": "python3"
    },
    "language_info": {
      "codemirror_mode": {
        "name": "ipython",
        "version": 3
      },
      "file_extension": ".py",
      "mimetype": "text/x-python",
      "name": "python",
      "nbconvert_exporter": "python",
      "pygments_lexer": "ipython3",
      "version": "3.9.16"
    },
    "colab": {
      "provenance": []
    },
    "accelerator": "GPU",
    "gpuClass": "standard"
  },
  "nbformat": 4,
  "nbformat_minor": 5
}
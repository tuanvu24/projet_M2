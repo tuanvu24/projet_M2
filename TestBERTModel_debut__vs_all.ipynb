{
  "cells": [
    {
      "cell_type": "code",
      "execution_count": null,
      "id": "492db99a",
      "metadata": {
        "colab": {
          "base_uri": "https://localhost:8080/"
        },
        "id": "492db99a",
        "outputId": "e505b261-82ac-4a8e-b59d-7c90fed55ab4"
      },
      "outputs": [
        {
          "output_type": "stream",
          "name": "stdout",
          "text": [
            "Drive already mounted at /content/drive; to attempt to forcibly remount, call drive.mount(\"/content/drive\", force_remount=True).\n"
          ]
        }
      ],
      "source": [
        "import json\n",
        "import os\n",
        "import re\n",
        "# drive à importer : https://drive.google.com/drive/folders/1vn_RM47LA_HdpQwZqdwqNRPm7CXyeeV3?usp=sharing\n",
        "# \n",
        "#1 chargement des datas\n",
        "\n",
        "#Nous allons tester la classification binaire \n",
        "from google.colab import drive\n",
        "drive.mount('/content/drive')"
      ]
    },
    {
      "cell_type": "code",
      "source": [
        "from matplotlib import pyplot as plt\n",
        "import seaborn as sn\n",
        "from sklearn.metrics import confusion_matrix, classification_report\n",
        "import numpy as np\n"
      ],
      "metadata": {
        "id": "EQuKDaHmTZA2"
      },
      "id": "EQuKDaHmTZA2",
      "execution_count": null,
      "outputs": []
    },
    {
      "cell_type": "code",
      "execution_count": null,
      "id": "47bcf75a",
      "metadata": {
        "id": "47bcf75a"
      },
      "outputs": [],
      "source": [
        "# Définit le chemin vers le dossier contenant les différentes types de datas\n",
        "\n",
        "###WhisperX\n",
        "\n",
        "#whisperX \n",
        "folder_path_whisperX_ad = \"/content/drive/MyDrive/Alzheimer_transcripts/transcriptions/whisperX/ad\"\n",
        "folder_path_whisperX_cn = \"/content/drive/MyDrive/Alzheimer_transcripts/transcriptions/whisperX/cn\"\n",
        "\n",
        "#whisperX with segmented 30sec audios length\n",
        "folder_path_whisperX_ad_seg = \"/content/drive/MyDrive/Alzheimer_transcripts/transcriptions/whisperX_seg/ad\"\n",
        "folder_path_whisperX_cn_seg = \"/content/drive/MyDrive/Alzheimer_transcripts/transcriptions/whisperX_seg/cn\"\n",
        "\n",
        "#whisperX with segmented 30sec audios length and whistespaces representation \n",
        "folder_path_whisperX_ad_ws_seg = \"/content/drive/MyDrive/Alzheimer_transcripts/transcriptions/whisperX_seg/white_spaces_ad\"\n",
        "folder_path_whisperX_cn_ws_seg = \"/content/drive/MyDrive/Alzheimer_transcripts/transcriptions/whisperX_seg/white_spaces_cn\"\n",
        "\n",
        "\n",
        "#whisperX with whistespaces representation \n",
        "folder_path_whisperX_ad_ws = \"/content/drive/MyDrive/Alzheimer_transcripts/transcriptions/whisperX/white_spaces_ad\"\n",
        "folder_path_whisperX_cn_ws = \"/content/drive/MyDrive/Alzheimer_transcripts/transcriptions/whisperX/white_spaces_cn\"\n",
        "\n",
        "\n",
        "\n",
        "###Whisper classic\n",
        "folder_path_whisper_ad = \"/content/drive/MyDrive/Alzheimer_transcripts/transcriptions/whisper/ad\"\n",
        "folder_path_whisper_cn = \"/content/drive/MyDrive/Alzheimer_transcripts/transcriptions/whisper/cn\"\n",
        "\n",
        "###Whisper classic with segmented 30sec audios length\n",
        "folder_path_whisper_ad_seg = \"/content/drive/MyDrive/Alzheimer_transcripts/transcriptions/whisper_seg/ad\"\n",
        "folder_path_whisper_cn_seg = \"/content/drive/MyDrive/Alzheimer_transcripts/transcriptions/whisper_seg/cn\"\n",
        "\n",
        "\n",
        "\n",
        "#### Only debut of audio (index 0 of segmented)\n",
        "folder_path_whisper_debut = \"/content/drive/MyDrive/Alzheimer_transcripts/transcriptions/whisper_seg/debut\"\n",
        "folder_path_whisperX_debut = \"/content/drive/MyDrive/Alzheimer_transcripts/transcriptions/whisperX_seg/debut\"\n",
        "folder_path_whisperX_ws_debut = \"/content/drive/MyDrive/Alzheimer_transcripts/transcriptions/whisperX_seg/debut_white_spaces\"\n",
        "#creer dossier avec \n",
        "\n",
        "\n",
        "###Whisper \n",
        "\n",
        "###WhisperX\n",
        "\n",
        "###\n",
        "# # Liste tous les fichiers dans les 2 dossiers\n",
        "# def list_files(folder_ad, folder_cn):\n",
        "#   files = []\n",
        "#   for data in [folder_ad, folder_cn]:\n",
        "#       files.extend(os.listdir(data))    \n",
        "#   return files   \n",
        "\n",
        "# files_whisperX = list_files(folder_path_whisperX_ad, folder_path_whisperX_cn)\n",
        "# print(\"taille whisperX files : \", len(files_whisperX))\n",
        "# files_whisperX_seg = list_files(folder_path_whisperX_ad_seg, folder_path_whisperX_cn_seg)\n",
        "# print(\"taille whisperX_seg files : \",len(files_whisperX_seg))\n",
        "# files_whisperX_seg_ws = list_files(folder_path_whisperX_ad_ws_seg, folder_path_whisperX_cn_ws_seg)\n",
        "# print(\"taille whisperX_seg_ws files : \",len(files_whisperX_seg_ws))\n",
        "# files_whisperX_ws = list_files(folder_path_whisperX_ad_ws, folder_path_whisperX_cn_ws)\n",
        "# print(\"taille whisperX_ws files : \",len(files_whisperX_ws))\n",
        "\n",
        "\n",
        "# files_whisper = list_files(folder_path_whisper_ad, folder_path_whisper_cn)\n",
        "# print(\"taille whisper files : \", len(files_whisper))\n",
        "# files_whisper_seg = list_files(folder_path_whisper_ad_seg, folder_path_whisper_cn_seg)\n",
        "# print(\"taille whisper_seg files : \", len(files_whisper_seg))"
      ]
    },
    {
      "cell_type": "code",
      "execution_count": null,
      "id": "6d6d201e",
      "metadata": {
        "id": "6d6d201e"
      },
      "outputs": [],
      "source": [
        "def from_json_to_dict(folder_ad, folder_cn):\n",
        "    data_ad = []\n",
        "    data_cn = []\n",
        "    for dir_path in [folder_ad, folder_cn]:\n",
        "        for file_name in os.listdir(dir_path):\n",
        "            if file_name.endswith('.json'):\n",
        "                file_path = os.path.join(dir_path, file_name)\n",
        "                with open(file_path, 'r') as f:\n",
        "                    data = json.load(f)\n",
        "                    if dir_path == folder_ad:\n",
        "                        data_ad.append(data)\n",
        "                    elif dir_path == folder_cn:\n",
        "                        data_cn.append(data)\n",
        "    return data_ad, data_cn             \n",
        "\n",
        "                \n",
        "whisperX_data_ad, whisperX_data_cn = from_json_to_dict(folder_path_whisperX_ad, folder_path_whisperX_cn)\n",
        "whisperX_seg_data_ad, whisperX_seg_data_cn = from_json_to_dict(folder_path_whisperX_ad_seg, folder_path_whisperX_cn_seg)\n",
        "whisperX_seg_ws_data_ad, whisperX_seg_ws_data_cn = from_json_to_dict(folder_path_whisperX_ad_ws_seg, folder_path_whisperX_cn_ws_seg)\n",
        "whisperX_ws_data_ad, whisperX_ws_data_cn = from_json_to_dict(folder_path_whisperX_ad_ws, folder_path_whisperX_cn_ws)\n",
        "\n",
        "\n",
        "whisper_seg_data_ad, whisper_seg_data_cn = from_json_to_dict(folder_path_whisper_ad_seg, folder_path_whisper_cn_seg)\n"
      ]
    },
    {
      "cell_type": "code",
      "source": [
        "whisper_data_ad, whisper_data_cn = from_json_to_dict(folder_path_whisper_ad, folder_path_whisper_cn)"
      ],
      "metadata": {
        "id": "zHk7mTKnKYTD"
      },
      "id": "zHk7mTKnKYTD",
      "execution_count": null,
      "outputs": []
    },
    {
      "cell_type": "code",
      "source": [
        "def from_json_to_dict_debut(folder_debut):\n",
        "  data_ad = []\n",
        "  data_cn = []\n",
        "  for file_name in os.listdir(folder_debut):\n",
        "    if file_name.endswith('.json'):\n",
        "        file_path = os.path.join(folder_debut, file_name)\n",
        "        with open(file_path, 'r') as f:\n",
        "          data = json.load(f)\n",
        "          data_ad.append(data) if data[\"label\"] else data_cn.append(data)\n",
        "  return data_ad, data_cn"
      ],
      "metadata": {
        "id": "bl4e2LUTsx6N"
      },
      "id": "bl4e2LUTsx6N",
      "execution_count": null,
      "outputs": []
    },
    {
      "cell_type": "code",
      "source": [
        "whisper_debut_data_ad, whisper_debut_data_cn = from_json_to_dict_debut(folder_path_whisper_debut)\n",
        "\n",
        "whisperX_debut_data_ad, whisperX_debut_data_cn = from_json_to_dict_debut(folder_path_whisperX_debut)\n",
        "whisper_debut_ws_data_ad, whisper_debut_ws_data_cn = from_json_to_dict_debut(folder_path_whisperX_ws_debut)"
      ],
      "metadata": {
        "id": "JBm8ktEwtgXa"
      },
      "id": "JBm8ktEwtgXa",
      "execution_count": null,
      "outputs": []
    },
    {
      "cell_type": "code",
      "source": [],
      "metadata": {
        "id": "8kLWE6kBuD7l"
      },
      "id": "8kLWE6kBuD7l",
      "execution_count": null,
      "outputs": []
    },
    {
      "cell_type": "code",
      "source": [
        "from random import choice\n",
        "\n",
        "print(\"\\nexemple d'une data ad avec whisperX :\\n \", choice(whisperX_data_ad))\n",
        "print(\"\\nexemple d'une data cn avec whisperX :\\n \", choice(whisperX_data_cn))\n",
        "\n",
        "print(\"\\nexemple d'une data ad avec whisperX_ws :\\n \", choice(whisperX_ws_data_ad))"
      ],
      "metadata": {
        "id": "gakJZ4yaItVp",
        "colab": {
          "base_uri": "https://localhost:8080/"
        },
        "outputId": "1dbefcfd-b769-41ff-adca-40321fc6edb6"
      },
      "id": "gakJZ4yaItVp",
      "execution_count": null,
      "outputs": [
        {
          "output_type": "stream",
          "name": "stdout",
          "text": [
            "\n",
            "exemple d'une data ad avec whisperX :\n",
            "  {'text': \"And here's the picture. The kid's still turning over. She's trying to steal cookies out of the cookie jar. The little girl's reaching up to grab hers. The mother's doing the dishes but let the water run over all over the floor. And she's standing in the puddle. Thank you. Mm-hmm. Drying the dishes. Did I say that before? Yeah. Kids laughing. The other kid with the storm falling over. Break his neck. Mm-hmm. There's no action to the curtains and grass is growing out there I guess you could call that action. Leaves are probably glowing. Others in their own little world. Water's still running. Okay. He's scanning the map. Like he made them. The chair is falling over the stool. Okay. Good. I think the little kid kicked it and pushed him over. Okay. Instead of holding him up she gave a shove. Okay. Good.\", 'label': 1}\n",
            "\n",
            "exemple d'une data cn avec whisperX :\n",
            "  {'text': \"And then here on this one, tell me everything you see going on in this picture. Well, I see the mother is not paying attention and her water is running over her sink. The boy has climbed up on a ladder to steal some cookies and he's falling over. The girl is laughing. The grass is growing outside. Nobody seems to care. They're just going on with their daily activities. Anything else you see? No right or wrong answers, but is there anything else you see going on in the picture? No, not really.\", 'label': 0}\n",
            "\n",
            "exemple d'une data ad avec whisperX_ws :\n",
            "  {'text': \"Tell me everything that you see going on in that picture. .. Well, the lady's drying her dishes. Then the little boy's up on the ladder reaching for a cookie jar. And a little girl is down on the floor reaching up toward him. And I see a sink, the dishes, cupboard. . and then there's a walkway in the back. I guess that's the walkway I call. . Anything else? What else is going on in that picture? The water's running over the sink. .. Anything else? . I said little boys climbing up on a cookie for the cookies.\", 'label': 1}\n"
          ]
        }
      ]
    },
    {
      "cell_type": "code",
      "execution_count": null,
      "id": "dd4c6b38",
      "metadata": {
        "id": "dd4c6b38"
      },
      "outputs": [],
      "source": [
        "#delete des keys autre que 'text' et 'label'\n",
        "keys_to_keep = ['text', 'label']\n",
        "\n",
        "def delete_keys(d, keys_to_keep):\n",
        "    for key in list(d.keys()):\n",
        "        if key not in keys_to_keep:\n",
        "            del d[key]\n",
        "\n",
        "for data in (whisperX_data_ad + whisperX_data_cn + \\\n",
        "             whisperX_seg_data_ad + whisperX_seg_data_cn + \\\n",
        "             whisperX_seg_ws_data_ad + whisperX_seg_ws_data_cn +\\\n",
        "             whisperX_ws_data_ad + whisperX_ws_data_cn +\\\n",
        "             whisper_seg_data_ad + whisper_seg_data_cn +\\\n",
        "             whisper_data_ad + whisper_data_cn)+\\\n",
        "             whisper_debut_data_ad + whisper_debut_data_cn+\\\n",
        "             whisperX_debut_data_ad + whisperX_debut_data_cn+\\\n",
        "             whisper_debut_ws_data_ad + whisper_debut_ws_data_cn:\n",
        "    delete_keys(data, keys_to_keep)\n",
        "    "
      ]
    },
    {
      "cell_type": "code",
      "execution_count": null,
      "id": "41335178",
      "metadata": {
        "id": "41335178"
      },
      "outputs": [],
      "source": []
    },
    {
      "cell_type": "code",
      "execution_count": null,
      "id": "6eaa6fac",
      "metadata": {
        "id": "6eaa6fac"
      },
      "outputs": [],
      "source": [
        "### nous avons 6 types de données différentes, on leur attribue un numéros pour la lisibilité des variables:\n",
        "# 0 : whisper\n",
        "# 1 : whisper_seg\n",
        "\n",
        "# 2 : whisperX\n",
        "# 3 : whisperX_seg\n",
        "# 4 : whisperX_seg_ws\n",
        "# 5 : whisperX_ws\n",
        "\n",
        "## à cela s'ajoute seulement les segments debut pour faire une comparaison (premier segment de 30 secondes)\n",
        "# 6 : whisper debut \n",
        "\n",
        "# 7 : whisperX debut \n",
        "# 8 : whisperX_ws debut \n",
        "from sklearn.model_selection import train_test_split\n",
        "\n",
        "data_0 = whisper_data_ad + whisper_data_cn\n",
        "data_1 = whisper_seg_data_ad + whisper_seg_data_cn \n",
        "data_2 =whisperX_data_ad + whisperX_data_cn\n",
        "data_3 = whisperX_seg_data_ad + whisperX_seg_data_cn\n",
        "data_4 = whisperX_seg_ws_data_ad + whisperX_seg_ws_data_cn\n",
        "data_5 = whisperX_ws_data_ad + whisperX_ws_data_cn\n",
        "\n",
        "data_6 = whisper_debut_data_ad + whisper_debut_data_cn\n",
        "data_7 = whisperX_debut_data_ad + whisperX_debut_data_cn\n",
        "data_8 = whisper_debut_ws_data_ad + whisper_debut_ws_data_cn\n",
        "\n",
        "texts_0, labels_0 = zip(*[(d['text'], d['label']) for d in data_0])\n",
        "texts_1, labels_1 = zip(*[(d['text'], d['label']) for d in data_1])\n",
        "texts_2, labels_2 = zip(*[(d['text'], d['label']) for d in data_2])\n",
        "texts_3, labels_3 = zip(*[(d['text'], d['label']) for d in data_3])\n",
        "texts_4, labels_4 = zip(*[(d['text'], d['label']) for d in data_4])\n",
        "texts_5, labels_5 = zip(*[(d['text'], d['label']) for d in data_5])\n",
        "\n",
        "texts_6, labels_6 = zip(*[(d['text'], d['label']) for d in data_6])\n",
        "texts_7, labels_7 = zip(*[(d['text'], d['label']) for d in data_7])\n",
        "texts_8, labels_8 = zip(*[(d['text'], d['label']) for d in data_8])\n",
        "\n",
        "x_train_0, x_test_0, y_train_0, y_test_0 = train_test_split(texts_0, labels_0, test_size = 0.25, random_state = 0, stratify = labels_0)\n",
        "x_train_1, x_test_1, y_train_1, y_test_1 = train_test_split(texts_1, labels_1, test_size = 0.25, random_state = 0, stratify = labels_1)\n",
        "x_train_2, x_test_2, y_train_2, y_test_2 = train_test_split(texts_2, labels_2, test_size = 0.25, random_state = 0, stratify = labels_2)\n",
        "x_train_3, x_test_3, y_train_3, y_test_3 = train_test_split(texts_3, labels_3, test_size = 0.25, random_state = 0, stratify = labels_3)\n",
        "x_train_4, x_test_4, y_train_4, y_test_4 = train_test_split(texts_4, labels_4, test_size = 0.25, random_state = 0, stratify = labels_4)\n",
        "x_train_5, x_test_5, y_train_5, y_test_5 = train_test_split(texts_5, labels_5, test_size = 0.25, random_state = 0, stratify = labels_5)\n",
        "\n",
        "x_train_6, x_test_6, y_train_6, y_test_6 = train_test_split(texts_6, labels_6, test_size = 0.25, random_state = 0, stratify = labels_6)\n",
        "x_train_7, x_test_7, y_train_7, y_test_7 = train_test_split(texts_7, labels_7, test_size = 0.25, random_state = 0, stratify = labels_7)\n",
        "x_train_8, x_test_8, y_train_8, y_test_8 = train_test_split(texts_8, labels_8, test_size = 0.25, random_state = 0, stratify = labels_8)"
      ]
    },
    {
      "cell_type": "code",
      "execution_count": null,
      "id": "a0c7074a",
      "metadata": {
        "id": "a0c7074a",
        "colab": {
          "base_uri": "https://localhost:8080/"
        },
        "outputId": "905ca2a8-bddf-4175-9043-221797cd3fca"
      },
      "outputs": [
        {
          "output_type": "stream",
          "name": "stdout",
          "text": [
            " What do you see going on here? Just look at this picture and tell me what you see going on. Well, you see the little boy stealing cookies. And the under girl is going to pick him up. I think she is. Because he is going to take a whole damn fall. And this girl... You have to find something here. Yeah, what else do you see? Well, cookie jars. They get smashed. But that little girl don't pick her up. And the woman is already getting it. Anything else? What's going on right here? What do you see going on over here? Anything? Yeah, she is in warm water and it's on all sides. And over there is cookies. Copyright. Is that all? Yeah, it's about all right. See? Okay.\n",
            "\n",
            "\n",
            " Here are two cups for coffee or something like that. Okay, thank you very much indeed.\n",
            "\n",
            "\n",
            "What do you see going on here? Just look at this picture and tell me what you see going on. Well, you see the little boy stealing cookies. And the under girl is going to pick him up. I think she is. Because he is going to take a whole damn fall. And this girl... You gotta find something here. Yeah, what else did you see? Well, cookie jars, they get smashed, but that little girl don't pick it. And the woman is already getting it. Anything else? What's going on right here? What do you see going on over here? Anything? Yeah, she's in warm water and it's on also. And over there is cookies. Copyright. Is that all? Yeah, it's about all right, see? Okay.\n",
            "\n",
            "\n",
            "Here are two cups for coffee or something like that. or something like that and... Okay. That's fine. Okay. Okay, thank you very much indeed.\n"
          ]
        }
      ],
      "source": [
        "print(x_train_0[22])\n",
        "print(\"\\n\")\n",
        "print(x_train_1[22])\n",
        "print(\"\\n\")\n",
        "print(x_train_2[22])\n",
        "print(\"\\n\")\n",
        "print(x_train_3[22])"
      ]
    },
    {
      "cell_type": "code",
      "execution_count": null,
      "id": "bb10ff99",
      "metadata": {
        "id": "bb10ff99",
        "outputId": "b4310e92-9c81-4a2f-b7fd-913039f62651",
        "colab": {
          "base_uri": "https://localhost:8080/"
        }
      },
      "outputs": [
        {
          "output_type": "stream",
          "name": "stdout",
          "text": [
            "Looking in indexes: https://pypi.org/simple, https://us-python.pkg.dev/colab-wheels/public/simple/\n",
            "Requirement already satisfied: transformers in /usr/local/lib/python3.8/dist-packages (4.26.1)\n",
            "Requirement already satisfied: pyyaml>=5.1 in /usr/local/lib/python3.8/dist-packages (from transformers) (5.4.1)\n",
            "Requirement already satisfied: requests in /usr/local/lib/python3.8/dist-packages (from transformers) (2.25.1)\n",
            "Requirement already satisfied: huggingface-hub<1.0,>=0.11.0 in /usr/local/lib/python3.8/dist-packages (from transformers) (0.12.1)\n",
            "Requirement already satisfied: tqdm>=4.27 in /usr/local/lib/python3.8/dist-packages (from transformers) (4.64.1)\n",
            "Requirement already satisfied: numpy>=1.17 in /usr/local/lib/python3.8/dist-packages (from transformers) (1.22.4)\n",
            "Requirement already satisfied: regex!=2019.12.17 in /usr/local/lib/python3.8/dist-packages (from transformers) (2022.6.2)\n",
            "Requirement already satisfied: filelock in /usr/local/lib/python3.8/dist-packages (from transformers) (3.9.0)\n",
            "Requirement already satisfied: tokenizers!=0.11.3,<0.14,>=0.11.1 in /usr/local/lib/python3.8/dist-packages (from transformers) (0.13.2)\n",
            "Requirement already satisfied: packaging>=20.0 in /usr/local/lib/python3.8/dist-packages (from transformers) (23.0)\n",
            "Requirement already satisfied: typing-extensions>=3.7.4.3 in /usr/local/lib/python3.8/dist-packages (from huggingface-hub<1.0,>=0.11.0->transformers) (4.5.0)\n",
            "Requirement already satisfied: urllib3<1.27,>=1.21.1 in /usr/local/lib/python3.8/dist-packages (from requests->transformers) (1.26.14)\n",
            "Requirement already satisfied: chardet<5,>=3.0.2 in /usr/local/lib/python3.8/dist-packages (from requests->transformers) (4.0.0)\n",
            "Requirement already satisfied: certifi>=2017.4.17 in /usr/local/lib/python3.8/dist-packages (from requests->transformers) (2022.12.7)\n",
            "Requirement already satisfied: idna<3,>=2.5 in /usr/local/lib/python3.8/dist-packages (from requests->transformers) (2.10)\n",
            "Looking in indexes: https://pypi.org/simple, https://us-python.pkg.dev/colab-wheels/public/simple/\n",
            "Requirement already satisfied: tensorflow_text in /usr/local/lib/python3.8/dist-packages (2.11.0)\n",
            "Requirement already satisfied: tensorflow-hub>=0.8.0 in /usr/local/lib/python3.8/dist-packages (from tensorflow_text) (0.12.0)\n",
            "Requirement already satisfied: tensorflow<2.12,>=2.11.0 in /usr/local/lib/python3.8/dist-packages (from tensorflow_text) (2.11.0)\n",
            "Requirement already satisfied: protobuf<3.20,>=3.9.2 in /usr/local/lib/python3.8/dist-packages (from tensorflow<2.12,>=2.11.0->tensorflow_text) (3.19.6)\n",
            "Requirement already satisfied: keras<2.12,>=2.11.0 in /usr/local/lib/python3.8/dist-packages (from tensorflow<2.12,>=2.11.0->tensorflow_text) (2.11.0)\n",
            "Requirement already satisfied: tensorflow-io-gcs-filesystem>=0.23.1 in /usr/local/lib/python3.8/dist-packages (from tensorflow<2.12,>=2.11.0->tensorflow_text) (0.31.0)\n",
            "Requirement already satisfied: astunparse>=1.6.0 in /usr/local/lib/python3.8/dist-packages (from tensorflow<2.12,>=2.11.0->tensorflow_text) (1.6.3)\n",
            "Requirement already satisfied: termcolor>=1.1.0 in /usr/local/lib/python3.8/dist-packages (from tensorflow<2.12,>=2.11.0->tensorflow_text) (2.2.0)\n",
            "Requirement already satisfied: gast<=0.4.0,>=0.2.1 in /usr/local/lib/python3.8/dist-packages (from tensorflow<2.12,>=2.11.0->tensorflow_text) (0.4.0)\n",
            "Requirement already satisfied: packaging in /usr/local/lib/python3.8/dist-packages (from tensorflow<2.12,>=2.11.0->tensorflow_text) (23.0)\n",
            "Requirement already satisfied: tensorflow-estimator<2.12,>=2.11.0 in /usr/local/lib/python3.8/dist-packages (from tensorflow<2.12,>=2.11.0->tensorflow_text) (2.11.0)\n",
            "Requirement already satisfied: absl-py>=1.0.0 in /usr/local/lib/python3.8/dist-packages (from tensorflow<2.12,>=2.11.0->tensorflow_text) (1.4.0)\n",
            "Requirement already satisfied: opt-einsum>=2.3.2 in /usr/local/lib/python3.8/dist-packages (from tensorflow<2.12,>=2.11.0->tensorflow_text) (3.3.0)\n",
            "Requirement already satisfied: typing-extensions>=3.6.6 in /usr/local/lib/python3.8/dist-packages (from tensorflow<2.12,>=2.11.0->tensorflow_text) (4.5.0)\n",
            "Requirement already satisfied: h5py>=2.9.0 in /usr/local/lib/python3.8/dist-packages (from tensorflow<2.12,>=2.11.0->tensorflow_text) (3.1.0)\n",
            "Requirement already satisfied: six>=1.12.0 in /usr/local/lib/python3.8/dist-packages (from tensorflow<2.12,>=2.11.0->tensorflow_text) (1.15.0)\n",
            "Requirement already satisfied: flatbuffers>=2.0 in /usr/local/lib/python3.8/dist-packages (from tensorflow<2.12,>=2.11.0->tensorflow_text) (23.1.21)\n",
            "Requirement already satisfied: libclang>=13.0.0 in /usr/local/lib/python3.8/dist-packages (from tensorflow<2.12,>=2.11.0->tensorflow_text) (15.0.6.1)\n",
            "Requirement already satisfied: google-pasta>=0.1.1 in /usr/local/lib/python3.8/dist-packages (from tensorflow<2.12,>=2.11.0->tensorflow_text) (0.2.0)\n",
            "Requirement already satisfied: tensorboard<2.12,>=2.11 in /usr/local/lib/python3.8/dist-packages (from tensorflow<2.12,>=2.11.0->tensorflow_text) (2.11.2)\n",
            "Requirement already satisfied: numpy>=1.20 in /usr/local/lib/python3.8/dist-packages (from tensorflow<2.12,>=2.11.0->tensorflow_text) (1.22.4)\n",
            "Requirement already satisfied: grpcio<2.0,>=1.24.3 in /usr/local/lib/python3.8/dist-packages (from tensorflow<2.12,>=2.11.0->tensorflow_text) (1.51.3)\n",
            "Requirement already satisfied: wrapt>=1.11.0 in /usr/local/lib/python3.8/dist-packages (from tensorflow<2.12,>=2.11.0->tensorflow_text) (1.15.0)\n",
            "Requirement already satisfied: setuptools in /usr/local/lib/python3.8/dist-packages (from tensorflow<2.12,>=2.11.0->tensorflow_text) (57.4.0)\n",
            "Requirement already satisfied: wheel<1.0,>=0.23.0 in /usr/local/lib/python3.8/dist-packages (from astunparse>=1.6.0->tensorflow<2.12,>=2.11.0->tensorflow_text) (0.38.4)\n",
            "Requirement already satisfied: google-auth<3,>=1.6.3 in /usr/local/lib/python3.8/dist-packages (from tensorboard<2.12,>=2.11->tensorflow<2.12,>=2.11.0->tensorflow_text) (2.16.1)\n",
            "Requirement already satisfied: tensorboard-data-server<0.7.0,>=0.6.0 in /usr/local/lib/python3.8/dist-packages (from tensorboard<2.12,>=2.11->tensorflow<2.12,>=2.11.0->tensorflow_text) (0.6.1)\n",
            "Requirement already satisfied: requests<3,>=2.21.0 in /usr/local/lib/python3.8/dist-packages (from tensorboard<2.12,>=2.11->tensorflow<2.12,>=2.11.0->tensorflow_text) (2.25.1)\n",
            "Requirement already satisfied: markdown>=2.6.8 in /usr/local/lib/python3.8/dist-packages (from tensorboard<2.12,>=2.11->tensorflow<2.12,>=2.11.0->tensorflow_text) (3.4.1)\n",
            "Requirement already satisfied: werkzeug>=1.0.1 in /usr/local/lib/python3.8/dist-packages (from tensorboard<2.12,>=2.11->tensorflow<2.12,>=2.11.0->tensorflow_text) (2.2.3)\n",
            "Requirement already satisfied: tensorboard-plugin-wit>=1.6.0 in /usr/local/lib/python3.8/dist-packages (from tensorboard<2.12,>=2.11->tensorflow<2.12,>=2.11.0->tensorflow_text) (1.8.1)\n",
            "Requirement already satisfied: google-auth-oauthlib<0.5,>=0.4.1 in /usr/local/lib/python3.8/dist-packages (from tensorboard<2.12,>=2.11->tensorflow<2.12,>=2.11.0->tensorflow_text) (0.4.6)\n",
            "Requirement already satisfied: rsa<5,>=3.1.4 in /usr/local/lib/python3.8/dist-packages (from google-auth<3,>=1.6.3->tensorboard<2.12,>=2.11->tensorflow<2.12,>=2.11.0->tensorflow_text) (4.9)\n",
            "Requirement already satisfied: cachetools<6.0,>=2.0.0 in /usr/local/lib/python3.8/dist-packages (from google-auth<3,>=1.6.3->tensorboard<2.12,>=2.11->tensorflow<2.12,>=2.11.0->tensorflow_text) (5.3.0)\n",
            "Requirement already satisfied: pyasn1-modules>=0.2.1 in /usr/local/lib/python3.8/dist-packages (from google-auth<3,>=1.6.3->tensorboard<2.12,>=2.11->tensorflow<2.12,>=2.11.0->tensorflow_text) (0.2.8)\n",
            "Requirement already satisfied: requests-oauthlib>=0.7.0 in /usr/local/lib/python3.8/dist-packages (from google-auth-oauthlib<0.5,>=0.4.1->tensorboard<2.12,>=2.11->tensorflow<2.12,>=2.11.0->tensorflow_text) (1.3.1)\n",
            "Requirement already satisfied: importlib-metadata>=4.4 in /usr/local/lib/python3.8/dist-packages (from markdown>=2.6.8->tensorboard<2.12,>=2.11->tensorflow<2.12,>=2.11.0->tensorflow_text) (6.0.0)\n",
            "Requirement already satisfied: urllib3<1.27,>=1.21.1 in /usr/local/lib/python3.8/dist-packages (from requests<3,>=2.21.0->tensorboard<2.12,>=2.11->tensorflow<2.12,>=2.11.0->tensorflow_text) (1.26.14)\n",
            "Requirement already satisfied: idna<3,>=2.5 in /usr/local/lib/python3.8/dist-packages (from requests<3,>=2.21.0->tensorboard<2.12,>=2.11->tensorflow<2.12,>=2.11.0->tensorflow_text) (2.10)\n",
            "Requirement already satisfied: certifi>=2017.4.17 in /usr/local/lib/python3.8/dist-packages (from requests<3,>=2.21.0->tensorboard<2.12,>=2.11->tensorflow<2.12,>=2.11.0->tensorflow_text) (2022.12.7)\n",
            "Requirement already satisfied: chardet<5,>=3.0.2 in /usr/local/lib/python3.8/dist-packages (from requests<3,>=2.21.0->tensorboard<2.12,>=2.11->tensorflow<2.12,>=2.11.0->tensorflow_text) (4.0.0)\n",
            "Requirement already satisfied: MarkupSafe>=2.1.1 in /usr/local/lib/python3.8/dist-packages (from werkzeug>=1.0.1->tensorboard<2.12,>=2.11->tensorflow<2.12,>=2.11.0->tensorflow_text) (2.1.2)\n",
            "Requirement already satisfied: zipp>=0.5 in /usr/local/lib/python3.8/dist-packages (from importlib-metadata>=4.4->markdown>=2.6.8->tensorboard<2.12,>=2.11->tensorflow<2.12,>=2.11.0->tensorflow_text) (3.15.0)\n",
            "Requirement already satisfied: pyasn1<0.5.0,>=0.4.6 in /usr/local/lib/python3.8/dist-packages (from pyasn1-modules>=0.2.1->google-auth<3,>=1.6.3->tensorboard<2.12,>=2.11->tensorflow<2.12,>=2.11.0->tensorflow_text) (0.4.8)\n",
            "Requirement already satisfied: oauthlib>=3.0.0 in /usr/local/lib/python3.8/dist-packages (from requests-oauthlib>=0.7.0->google-auth-oauthlib<0.5,>=0.4.1->tensorboard<2.12,>=2.11->tensorflow<2.12,>=2.11.0->tensorflow_text) (3.2.2)\n"
          ]
        }
      ],
      "source": [
        "#!pip install transformers\n",
        "#!pip install tensorflow_hub\n",
        "!pip install tensorflow_text\n",
        "#from transformers import BertTokenizer, TFBertModel\n",
        "\n",
        "import tensorflow as tf\n",
        "import tensorflow_hub as hub\n",
        "import tensorflow_text as text\n",
        "#tokenizer = BertTokenizer.from_pretrained('bert-base-uncased')\n",
        "#bert_model = TFBertModel.from_pretrained(\"bert-base-uncased\")\n",
        "# bert_preprocess = hub.KerasLayer(\"https://tfhub.dev/tensorflow/bert_en_uncased_preprocess/3\")\n",
        "# bert_encoder = hub.KerasLayer(\"https://tfhub.dev/tensorflow/bert_en_uncased_L-12_H-768_A-12/4\")"
      ]
    },
    {
      "cell_type": "code",
      "execution_count": null,
      "id": "356a85da",
      "metadata": {
        "scrolled": true,
        "id": "356a85da"
      },
      "outputs": [],
      "source": [
        "\n"
      ]
    },
    {
      "cell_type": "code",
      "execution_count": null,
      "id": "a5bdd5a2",
      "metadata": {
        "id": "a5bdd5a2"
      },
      "outputs": [],
      "source": [
        "# # Bert layers\n",
        "# text_input = tf.keras.layers.Input(shape=(), dtype=tf.string, name='text')\n",
        "# preprocessed_text = bert_preprocess(text_input)\n",
        "# outputs = bert_encoder(preprocessed_text)\n",
        "\n",
        "# # Neural network layers\n",
        "# l = tf.keras.layers.Dropout(0.01, name=\"dropout\")(outputs['pooled_output'])\n",
        "# l2 = tf.keras.layers.Dense(1, activation='sigmoid', name=\"output\")(l)\n",
        "\n",
        "# # Use inputs and outputs to construct a final model\n",
        "# model = tf.keras.Model(inputs=[text_input], outputs = [l2])\n",
        "\n",
        "def build_classifier_model():\n",
        "  bert_preprocess = hub.KerasLayer(\"https://tfhub.dev/tensorflow/bert_en_uncased_preprocess/3\", name='preprocessing')\n",
        "  bert_encoder = hub.KerasLayer(\"https://tfhub.dev/tensorflow/bert_en_uncased_L-12_H-768_A-12/4\", trainable=True, name='BERT_encoder')\n",
        "  text_input = tf.keras.layers.Input(shape=(), dtype=tf.string, name='text')\n",
        "  preprocessing_layer = bert_preprocess\n",
        "  encoder_inputs = preprocessing_layer(text_input)\n",
        "  encoder = bert_encoder\n",
        "  outputs = encoder(encoder_inputs)\n",
        "  net = outputs['pooled_output']\n",
        "  \n",
        "  net = tf.keras.layers.Dropout(0.1)(net)\n",
        "  net = tf.keras.layers.Dense(1, activation=\"sigmoid\", name='classifier')(net)\n",
        "  return tf.keras.Model(text_input, net)"
      ]
    },
    {
      "cell_type": "code",
      "execution_count": null,
      "id": "f50b669e",
      "metadata": {
        "id": "f50b669e"
      },
      "outputs": [],
      "source": [
        "#model_0 = build_classifier_model()\n",
        "model_1 = build_classifier_model()\n",
        "#model_2 = build_classifier_model()\n",
        "#model_3 = build_classifier_model()\n",
        "#model_4 = build_classifier_model()\n",
        "#model_5 = build_classifier_model()\n",
        "model_6 = build_classifier_model()\n",
        "#model_5 = build_classifier_model()\n",
        "model_1.summary()"
      ]
    },
    {
      "cell_type": "code",
      "source": [
        "!pip install -q tf-models-official\n",
        "\n",
        "from official.nlp import optimization\n",
        "\n",
        "# loss = tf.keras.losses.BinaryCrossentropy(from_logits=True)\n",
        "metrics = tf.metrics.BinaryAccuracy()\n",
        "\n",
        "epochs = 10\n",
        "steps_per_epoch = 200\n",
        "num_train_steps = steps_per_epoch * epochs\n",
        "num_warmup_steps = int(0.1*num_train_steps)\n",
        "init_lr = 3e-5\n",
        "# METRICS = [\n",
        "#       tf.keras.metrics.Accuracy(name='accuracy'),\n",
        "#       tf.keras.metrics.Precision(name='precision'),\n",
        "#       tf.keras.metrics.Recall(name='recall')\n",
        "# ]\n",
        "optimizer = optimization.create_optimizer(init_lr=init_lr,\n",
        "                                          num_train_steps=num_train_steps,\n",
        "                                          num_warmup_steps=num_warmup_steps,\n",
        "                                          optimizer_type='adamw')\n"
      ],
      "metadata": {
        "id": "wmli2cMtNS-D"
      },
      "id": "wmli2cMtNS-D",
      "execution_count": null,
      "outputs": []
    },
    {
      "cell_type": "code",
      "source": [
        "#training models 1\n",
        "#model_1.reset_states()\n",
        "#del model_1\n",
        "model_0 = build_classifier_model()\n",
        "model_0.compile(optimizer=optimizer,\n",
        "              loss='binary_crossentropy',\n",
        "              metrics=metrics)\n",
        "model_0.fit(x_train_0, y_train_0, epochs=epochs)"
      ],
      "metadata": {
        "colab": {
          "base_uri": "https://localhost:8080/"
        },
        "id": "AA56eOu1Nb_K",
        "outputId": "8d64d882-4bb7-4e29-d475-0e3209d4eedb"
      },
      "id": "AA56eOu1Nb_K",
      "execution_count": null,
      "outputs": [
        {
          "output_type": "stream",
          "name": "stdout",
          "text": [
            "Epoch 1/20\n",
            "4/4 [==============================] - 29s 865ms/step - loss: 0.7204 - binary_accuracy: 0.4516\n",
            "Epoch 2/20\n",
            "4/4 [==============================] - 4s 913ms/step - loss: 0.7273 - binary_accuracy: 0.4758\n",
            "Epoch 3/20\n",
            "4/4 [==============================] - 4s 853ms/step - loss: 0.6975 - binary_accuracy: 0.5484\n",
            "Epoch 4/20\n",
            "4/4 [==============================] - 3s 861ms/step - loss: 0.7044 - binary_accuracy: 0.4839\n",
            "Epoch 5/20\n",
            "4/4 [==============================] - 4s 921ms/step - loss: 0.6838 - binary_accuracy: 0.5403\n",
            "Epoch 6/20\n",
            "4/4 [==============================] - 4s 879ms/step - loss: 0.6974 - binary_accuracy: 0.5161\n",
            "Epoch 7/20\n",
            "4/4 [==============================] - 4s 871ms/step - loss: 0.6651 - binary_accuracy: 0.6129\n",
            "Epoch 8/20\n",
            "4/4 [==============================] - 4s 921ms/step - loss: 0.6419 - binary_accuracy: 0.6694\n",
            "Epoch 9/20\n",
            "4/4 [==============================] - 4s 937ms/step - loss: 0.6254 - binary_accuracy: 0.7097\n",
            "Epoch 10/20\n",
            "4/4 [==============================] - 4s 884ms/step - loss: 0.6306 - binary_accuracy: 0.6613\n",
            "Epoch 11/20\n",
            "4/4 [==============================] - 4s 887ms/step - loss: 0.6334 - binary_accuracy: 0.6452\n",
            "Epoch 12/20\n",
            "4/4 [==============================] - 4s 943ms/step - loss: 0.5781 - binary_accuracy: 0.7823\n",
            "Epoch 13/20\n",
            "4/4 [==============================] - 4s 879ms/step - loss: 0.5727 - binary_accuracy: 0.7177\n",
            "Epoch 14/20\n",
            "4/4 [==============================] - 4s 907ms/step - loss: 0.5511 - binary_accuracy: 0.7661\n",
            "Epoch 15/20\n",
            "4/4 [==============================] - 4s 933ms/step - loss: 0.4904 - binary_accuracy: 0.8306\n",
            "Epoch 16/20\n",
            "4/4 [==============================] - 4s 871ms/step - loss: 0.4928 - binary_accuracy: 0.8065\n",
            "Epoch 17/20\n",
            "4/4 [==============================] - 4s 869ms/step - loss: 0.4385 - binary_accuracy: 0.8306\n",
            "Epoch 18/20\n",
            "4/4 [==============================] - 4s 918ms/step - loss: 0.3979 - binary_accuracy: 0.8548\n",
            "Epoch 19/20\n",
            "4/4 [==============================] - 4s 863ms/step - loss: 0.3739 - binary_accuracy: 0.8790\n",
            "Epoch 20/20\n",
            "4/4 [==============================] - 4s 875ms/step - loss: 0.3415 - binary_accuracy: 0.8871\n"
          ]
        },
        {
          "output_type": "execute_result",
          "data": {
            "text/plain": [
              "<keras.callbacks.History at 0x7f317545f400>"
            ]
          },
          "metadata": {},
          "execution_count": 37
        }
      ]
    },
    {
      "cell_type": "code",
      "source": [
        "#train avec tout test avec tout\n",
        "model_0.evaluate(x_test_0, y_test_0)\n"
      ],
      "metadata": {
        "colab": {
          "base_uri": "https://localhost:8080/"
        },
        "id": "ZFRZZ2FJSt6q",
        "outputId": "9a0893f5-0ee7-42f4-f9b2-db06fe19b611"
      },
      "id": "ZFRZZ2FJSt6q",
      "execution_count": null,
      "outputs": [
        {
          "output_type": "stream",
          "name": "stdout",
          "text": [
            "2/2 [==============================] - 2s 107ms/step - loss: 0.6160 - binary_accuracy: 0.7143\n"
          ]
        },
        {
          "output_type": "execute_result",
          "data": {
            "text/plain": [
              "[0.615959882736206, 0.7142857313156128]"
            ]
          },
          "metadata": {},
          "execution_count": 38
        }
      ]
    },
    {
      "cell_type": "code",
      "source": [
        "#train avec tout test avec debut\n",
        "model_0.evaluate(x_test_6, y_test_6)"
      ],
      "metadata": {
        "colab": {
          "base_uri": "https://localhost:8080/"
        },
        "id": "33vClhg5iAh_",
        "outputId": "7b2ff7c3-68f7-492c-a5e6-fa2298862a31"
      },
      "id": "33vClhg5iAh_",
      "execution_count": null,
      "outputs": [
        {
          "output_type": "stream",
          "name": "stdout",
          "text": [
            "2/2 [==============================] - 0s 107ms/step - loss: 0.4587 - binary_accuracy: 0.7619\n"
          ]
        },
        {
          "output_type": "execute_result",
          "data": {
            "text/plain": [
              "[0.45868268609046936, 0.761904776096344]"
            ]
          },
          "metadata": {},
          "execution_count": 39
        }
      ]
    },
    {
      "cell_type": "code",
      "source": [
        "def get_matrice_cm(model, x_test, y_test ):\n",
        "  y_predicted = model.predict(x_test)\n",
        "  y_predicted = np.round(y_predicted).flatten()\n",
        "  cm = confusion_matrix(y_test, y_predicted)\n",
        "  return cm\n",
        "\n",
        "def plot_2_cm(cm1, cm2, title1, title2):\n",
        "  # Créer une grille de subplots pour afficher les matrices de confusion\n",
        "  fig, axes = plt.subplots(nrows=1, ncols=2, figsize=(20, 4))\n",
        "\n",
        "  # Afficher chaque matrice de confusion dans un subplot différent\n",
        "  sn.heatmap(cm1, ax=axes[0], annot=True, cmap=\"Blues\", fmt='g')\n",
        "  sn.heatmap(cm2, ax=axes[1], annot=True, cmap=\"Blues\", fmt='g')\n",
        "  # sn.heatmap(cm_4, ax=axes[2], annot=True, cmap=\"Blues\", fmt='g')\n",
        "\n",
        "  axes[0].set_xlabel('Prédiction')\n",
        "  axes[0].set_ylabel('Réel')\n",
        "  axes[0].set_title(title1)\n",
        "\n",
        "  axes[1].set_xlabel('Prédiction')\n",
        "  axes[1].set_ylabel('Réel')\n",
        "  axes[1].set_title(title2)\n"
      ],
      "metadata": {
        "id": "eg72EkmKTPHJ"
      },
      "id": "eg72EkmKTPHJ",
      "execution_count": null,
      "outputs": []
    },
    {
      "cell_type": "code",
      "source": [
        "cm_1 = get_matrice_cm(model_0, x_test_0, y_test_0)\n",
        "cm_1_b = get_matrice_cm(model_0, x_test_6, y_test_6)"
      ],
      "metadata": {
        "id": "VEIB8vImyfcZ"
      },
      "id": "VEIB8vImyfcZ",
      "execution_count": null,
      "outputs": []
    },
    {
      "cell_type": "code",
      "source": [],
      "metadata": {
        "id": "hluSHKHW-eZ9"
      },
      "id": "hluSHKHW-eZ9",
      "execution_count": null,
      "outputs": []
    },
    {
      "cell_type": "code",
      "source": [
        "# # Créer une grille de subplots pour afficher les matrices de confusion\n",
        "# fig, axes = plt.subplots(nrows=1, ncols=2, figsize=(20, 4))\n",
        "\n",
        "# # Afficher chaque matrice de confusion dans un subplot différent\n",
        "# sn.heatmap(cm_1, ax=axes[0], annot=True, cmap=\"Blues\", fmt='g')\n",
        "# sn.heatmap(cm_1_b, ax=axes[1], annot=True, cmap=\"Blues\", fmt='g')\n",
        "# # sn.heatmap(cm_4, ax=axes[2], annot=True, cmap=\"Blues\", fmt='g')\n",
        "\n",
        "# axes[0].set_xlabel('Prédiction')\n",
        "# axes[0].set_ylabel('Réel')\n",
        "# axes[0].set_title('Matrice de confusion modele_1 : données de whisper avec test sur whisper')\n",
        "\n",
        "# axes[1].set_xlabel('Prédiction')\n",
        "# axes[1].set_ylabel('Réel')\n",
        "# axes[1].set_title('Matrice de confusion modele_1 : données de whisper avec test sur whisper_debut')\n",
        "\n",
        "plot_2_cm(cm_1, cm_1_b, 'Matrice de confusion modele_1 : données de whisper avec test sur whisper', 'Matrice de confusion modele_1 : données de whisper avec test sur whisper_debut')"
      ],
      "metadata": {
        "colab": {
          "base_uri": "https://localhost:8080/",
          "height": 312
        },
        "id": "cCqoVEw2tNNu",
        "outputId": "5c90aeb5-7067-455f-f1a3-c5d84697616a"
      },
      "id": "cCqoVEw2tNNu",
      "execution_count": null,
      "outputs": [
        {
          "output_type": "execute_result",
          "data": {
            "text/plain": [
              "Text(0.5, 1.0, 'Matrice de confusion modele_1 : données de whisper avec test sur whisper_debut')"
            ]
          },
          "metadata": {},
          "execution_count": 46
        },
        {
          "output_type": "display_data",
          "data": {
            "text/plain": [
              "<Figure size 1440x288 with 4 Axes>"
            ],
            "image/png": "[encoded data removed]"
          },
          "metadata": {
            "needs_background": "light"
          }
        }
      ]
    },
    {
      "cell_type": "code",
      "source": [
        "#training models 1 mais avec les données de seg_debut\n",
        "model_1.reset_states()\n",
        "del model_1\n",
        "\n",
        "model_1_bis = build_classifier_model()\n",
        "model_1_bis.compile(optimizer=optimizer,\n",
        "              loss='binary_crossentropy',\n",
        "              metrics=metrics)\n",
        "model_1_bis.fit(x_train_6, y_train_6, epochs=epochs)"
      ],
      "metadata": {
        "id": "etkZN8qdTenw",
        "colab": {
          "base_uri": "https://localhost:8080/"
        },
        "outputId": "220a6bf3-1cc1-42b8-8f9f-af83fa18b943"
      },
      "id": "etkZN8qdTenw",
      "execution_count": null,
      "outputs": [
        {
          "output_type": "stream",
          "name": "stdout",
          "text": [
            "Epoch 1/20\n",
            "4/4 [==============================] - 23s 900ms/step - loss: 0.7108 - binary_accuracy: 0.5542\n",
            "Epoch 2/20\n",
            "4/4 [==============================] - 3s 868ms/step - loss: 0.6829 - binary_accuracy: 0.5000\n",
            "Epoch 3/20\n",
            "4/4 [==============================] - 4s 872ms/step - loss: 0.6295 - binary_accuracy: 0.6613\n",
            "Epoch 4/20\n",
            "4/4 [==============================] - 4s 906ms/step - loss: 0.5724 - binary_accuracy: 0.7742\n",
            "Epoch 5/20\n",
            "4/4 [==============================] - 4s 928ms/step - loss: 0.5049 - binary_accuracy: 0.8306\n",
            "Epoch 6/20\n",
            "4/4 [==============================] - 4s 917ms/step - loss: 0.4369 - binary_accuracy: 0.8629\n",
            "Epoch 7/20\n",
            "4/4 [==============================] - 3s 867ms/step - loss: 0.3534 - binary_accuracy: 0.8710\n",
            "Epoch 8/20\n",
            "4/4 [==============================] - 4s 921ms/step - loss: 0.2718 - binary_accuracy: 0.9274\n",
            "Epoch 9/20\n",
            "4/4 [==============================] - 4s 855ms/step - loss: 0.2143 - binary_accuracy: 0.9597\n",
            "Epoch 10/20\n",
            "4/4 [==============================] - 3s 857ms/step - loss: 0.1526 - binary_accuracy: 0.9758\n",
            "Epoch 11/20\n",
            "4/4 [==============================] - 4s 971ms/step - loss: 0.1158 - binary_accuracy: 0.9839\n",
            "Epoch 12/20\n",
            "4/4 [==============================] - 4s 923ms/step - loss: 0.0754 - binary_accuracy: 0.9919\n",
            "Epoch 13/20\n",
            "4/4 [==============================] - 3s 849ms/step - loss: 0.0477 - binary_accuracy: 1.0000\n",
            "Epoch 14/20\n",
            "4/4 [==============================] - 3s 851ms/step - loss: 0.0257 - binary_accuracy: 1.0000\n",
            "Epoch 15/20\n",
            "4/4 [==============================] - 4s 901ms/step - loss: 0.0169 - binary_accuracy: 1.0000\n",
            "Epoch 16/20\n",
            "4/4 [==============================] - 3s 850ms/step - loss: 0.0111 - binary_accuracy: 1.0000\n",
            "Epoch 17/20\n",
            "4/4 [==============================] - 4s 935ms/step - loss: 0.0072 - binary_accuracy: 1.0000\n",
            "Epoch 18/20\n",
            "4/4 [==============================] - 4s 885ms/step - loss: 0.0047 - binary_accuracy: 1.0000\n",
            "Epoch 19/20\n",
            "4/4 [==============================] - 4s 918ms/step - loss: 0.0038 - binary_accuracy: 1.0000\n",
            "Epoch 20/20\n",
            "4/4 [==============================] - 3s 860ms/step - loss: 0.0031 - binary_accuracy: 1.0000\n"
          ]
        },
        {
          "output_type": "execute_result",
          "data": {
            "text/plain": [
              "<keras.callbacks.History at 0x7f3071fb1250>"
            ]
          },
          "metadata": {},
          "execution_count": 45
        }
      ]
    },
    {
      "cell_type": "code",
      "source": [
        "#train avec début test avec tout\n",
        "cm_2 = get_matrice_cm(model_1_bis, x_test_0, y_test_0)\n",
        "model_1_bis.evaluate(x_test_0, y_test_0)"
      ],
      "metadata": {
        "id": "E5g6bZGfTg4s",
        "colab": {
          "base_uri": "https://localhost:8080/"
        },
        "outputId": "bb0e82f0-336d-4dbc-9f81-bdce06355a5a"
      },
      "id": "E5g6bZGfTg4s",
      "execution_count": null,
      "outputs": [
        {
          "output_type": "stream",
          "name": "stdout",
          "text": [
            "2/2 [==============================] - 1s 363ms/step\n",
            "2/2 [==============================] - 1s 105ms/step - loss: 0.4390 - binary_accuracy: 0.9048\n"
          ]
        },
        {
          "output_type": "execute_result",
          "data": {
            "text/plain": [
              "[0.4390411376953125, 0.9047619104385376]"
            ]
          },
          "metadata": {},
          "execution_count": 57
        }
      ]
    },
    {
      "cell_type": "code",
      "source": [
        "#train avec début et test avec début\n",
        "cm_2_bis = get_matrice_cm(model_1_bis, x_test_6, y_test_6)\n",
        "model_1_bis.evaluate(x_test_6, y_test_6)"
      ],
      "metadata": {
        "id": "T4oIPlSaTnWC",
        "colab": {
          "base_uri": "https://localhost:8080/"
        },
        "outputId": "ff765af6-f3fe-4d32-90a5-d568bc33e4df"
      },
      "id": "T4oIPlSaTnWC",
      "execution_count": null,
      "outputs": [
        {
          "output_type": "stream",
          "name": "stdout",
          "text": [
            "2/2 [==============================] - 0s 277ms/step\n",
            "2/2 [==============================] - 0s 103ms/step - loss: 0.8104 - binary_accuracy: 0.7857\n"
          ]
        },
        {
          "output_type": "execute_result",
          "data": {
            "text/plain": [
              "[0.8103622198104858, 0.7857142686843872]"
            ]
          },
          "metadata": {},
          "execution_count": 58
        }
      ]
    },
    {
      "cell_type": "code",
      "source": [
        "# Créer une grille de subplots pour afficher les matrices de confusion\n",
        "fig, axes = plt.subplots(nrows=1, ncols=2, figsize=(25, 4))\n",
        "\n",
        "# Afficher chaque matrice de confusion dans un subplot différent\n",
        "sn.heatmap(cm_2, ax=axes[0], annot=True, cmap=\"Blues\", fmt='g')\n",
        "sn.heatmap(cm_2_bis, ax=axes[1], annot=True, cmap=\"Blues\", fmt='g')\n",
        "# sn.heatmap(cm_4, ax=axes[2], annot=True, cmap=\"Blues\", fmt='g')\n",
        "\n",
        "axes[0].set_xlabel('Prédiction')\n",
        "axes[0].set_ylabel('Réel')\n",
        "axes[0].set_title('Matrice de confusion modele_1_bis : train avec données de whisper_debut avec test sur whisper')\n",
        "\n",
        "axes[1].set_xlabel('Prédiction')\n",
        "axes[1].set_ylabel('Réel')\n",
        "axes[1].set_title('Matrice de confusion modele_1_bis : train avec données de whisper_debut avec test sur whisper_debut')"
      ],
      "metadata": {
        "colab": {
          "base_uri": "https://localhost:8080/",
          "height": 312
        },
        "id": "Go-j3HXKxC8u",
        "outputId": "c8d6eab0-fe11-4a4e-a3f4-0558c1b5e499"
      },
      "id": "Go-j3HXKxC8u",
      "execution_count": null,
      "outputs": [
        {
          "output_type": "execute_result",
          "data": {
            "text/plain": [
              "Text(0.5, 1.0, 'Matrice de confusion modele_1_bis : train avec données de whisper_debut avec test sur whisper_debut')"
            ]
          },
          "metadata": {},
          "execution_count": 60
        },
        {
          "output_type": "display_data",
          "data": {
            "text/plain": [
              "<Figure size 1800x288 with 4 Axes>"
            ],
            "image/png": "[encoded data removed]"
          },
          "metadata": {
            "needs_background": "light"
          }
        }
      ]
    },
    {
      "cell_type": "code",
      "source": [
        "#ici\n",
        "###same avec whisperX\n",
        "\n",
        "#training models 2 mais avec les données de seg_debut\n",
        "model_2 = build_classifier_model()\n",
        "model_2.compile(optimizer=optimizer,\n",
        "              loss='binary_crossentropy',\n",
        "              metrics=metrics)\n",
        "model_2.fit(x_train_2, y_train_2, epochs=epochs)"
      ],
      "metadata": {
        "id": "0I-ah1iqTszA",
        "colab": {
          "base_uri": "https://localhost:8080/"
        },
        "outputId": "f7867fdd-2789-492c-9bf6-0cc4462a4ab0"
      },
      "id": "0I-ah1iqTszA",
      "execution_count": null,
      "outputs": [
        {
          "output_type": "stream",
          "name": "stdout",
          "text": [
            "Epoch 1/20\n",
            "4/4 [==============================] - 24s 910ms/step - loss: 0.7665 - binary_accuracy: 0.5242\n",
            "Epoch 2/20\n",
            "4/4 [==============================] - 4s 875ms/step - loss: 0.7672 - binary_accuracy: 0.5242\n",
            "Epoch 3/20\n",
            "4/4 [==============================] - 4s 875ms/step - loss: 0.7721 - binary_accuracy: 0.5242\n",
            "Epoch 4/20\n",
            "4/4 [==============================] - 4s 907ms/step - loss: 0.7292 - binary_accuracy: 0.5403\n",
            "Epoch 5/20\n",
            "4/4 [==============================] - 4s 943ms/step - loss: 0.7244 - binary_accuracy: 0.5565\n",
            "Epoch 6/20\n",
            "4/4 [==============================] - 4s 886ms/step - loss: 0.7222 - binary_accuracy: 0.5242\n",
            "Epoch 7/20\n",
            "4/4 [==============================] - 4s 891ms/step - loss: 0.6616 - binary_accuracy: 0.5645\n",
            "Epoch 8/20\n",
            "4/4 [==============================] - 4s 926ms/step - loss: 0.6687 - binary_accuracy: 0.5806\n",
            "Epoch 9/20\n",
            "4/4 [==============================] - 4s 935ms/step - loss: 0.6581 - binary_accuracy: 0.6048\n",
            "Epoch 10/20\n",
            "4/4 [==============================] - 4s 876ms/step - loss: 0.6319 - binary_accuracy: 0.6774\n",
            "Epoch 11/20\n",
            "4/4 [==============================] - 4s 891ms/step - loss: 0.6035 - binary_accuracy: 0.6935\n",
            "Epoch 12/20\n",
            "4/4 [==============================] - 4s 929ms/step - loss: 0.5889 - binary_accuracy: 0.7016\n",
            "Epoch 13/20\n",
            "4/4 [==============================] - 4s 950ms/step - loss: 0.5498 - binary_accuracy: 0.7903\n",
            "Epoch 14/20\n",
            "4/4 [==============================] - 3s 868ms/step - loss: 0.5250 - binary_accuracy: 0.7661\n",
            "Epoch 15/20\n",
            "4/4 [==============================] - 4s 931ms/step - loss: 0.4965 - binary_accuracy: 0.8145\n",
            "Epoch 16/20\n",
            "4/4 [==============================] - 4s 870ms/step - loss: 0.4915 - binary_accuracy: 0.8226\n",
            "Epoch 17/20\n",
            "4/4 [==============================] - 4s 871ms/step - loss: 0.4333 - binary_accuracy: 0.8629\n",
            "Epoch 18/20\n",
            "4/4 [==============================] - 4s 912ms/step - loss: 0.3997 - binary_accuracy: 0.8629\n",
            "Epoch 19/20\n",
            "4/4 [==============================] - 4s 910ms/step - loss: 0.3667 - binary_accuracy: 0.8871\n",
            "Epoch 20/20\n",
            "4/4 [==============================] - 4s 874ms/step - loss: 0.3099 - binary_accuracy: 0.9113\n"
          ]
        },
        {
          "output_type": "execute_result",
          "data": {
            "text/plain": [
              "<keras.callbacks.History at 0x7fe3c0f04b50>"
            ]
          },
          "metadata": {},
          "execution_count": 43
        }
      ]
    },
    {
      "cell_type": "code",
      "source": [
        "#train avec tout test avec tout\n",
        "cm_3 = get_matrice_cm(model_2, x_test_2, y_test_2)\n",
        "model_2.evaluate(x_test_2, y_test_2)\n"
      ],
      "metadata": {
        "id": "TMfESJEkTvcl",
        "colab": {
          "base_uri": "https://localhost:8080/"
        },
        "outputId": "94488298-0feb-4a9f-8ca8-1905314ba45b"
      },
      "id": "TMfESJEkTvcl",
      "execution_count": null,
      "outputs": [
        {
          "output_type": "stream",
          "name": "stdout",
          "text": [
            "2/2 [==============================] - 1s 327ms/step\n",
            "2/2 [==============================] - 1s 105ms/step - loss: 0.5470 - binary_accuracy: 0.7381\n"
          ]
        },
        {
          "output_type": "execute_result",
          "data": {
            "text/plain": [
              "[0.5470249652862549, 0.738095223903656]"
            ]
          },
          "metadata": {},
          "execution_count": 44
        }
      ]
    },
    {
      "cell_type": "code",
      "source": [
        "#train avec tout test avec debut\n",
        "cm_3_bis = get_matrice_cm(model_2, x_test_7, y_test_7)\n",
        "model_2.evaluate(x_test_7, y_test_7)"
      ],
      "metadata": {
        "colab": {
          "base_uri": "https://localhost:8080/"
        },
        "id": "_wGVLr85NoQl",
        "outputId": "02680440-f34a-428d-a4c5-120ce37e03a5"
      },
      "id": "_wGVLr85NoQl",
      "execution_count": null,
      "outputs": [
        {
          "output_type": "stream",
          "name": "stdout",
          "text": [
            "2/2 [==============================] - 0s 304ms/step\n",
            "2/2 [==============================] - 1s 114ms/step - loss: 0.5715 - binary_accuracy: 0.6905\n"
          ]
        },
        {
          "output_type": "execute_result",
          "data": {
            "text/plain": [
              "[0.5715210437774658, 0.6904761791229248]"
            ]
          },
          "metadata": {},
          "execution_count": 45
        }
      ]
    },
    {
      "cell_type": "code",
      "source": [
        "# Créer une grille de subplots pour afficher les matrices de confusion\n",
        "# fig, axes = plt.subplots(nrows=1, ncols=2, figsize=(25, 4))\n",
        "\n",
        "# # Afficher chaque matrice de confusion dans un subplot différent\n",
        "# sn.heatmap(cm_3, ax=axes[0], annot=True, cmap=\"Blues\", fmt='g')\n",
        "# sn.heatmap(cm_3_bis, ax=axes[1], annot=True, cmap=\"Blues\", fmt='g')\n",
        "# # sn.heatmap(cm_4, ax=axes[2], annot=True, cmap=\"Blues\", fmt='g')\n",
        "\n",
        "# axes[0].set_xlabel('Prédiction')\n",
        "# axes[0].set_ylabel('Réel')\n",
        "# axes[0].set_title('Matrice de confusion modele_2_bis : train avec données de whisperX avec test sur whisperX')\n",
        "\n",
        "# axes[1].set_xlabel('Prédiction')\n",
        "# axes[1].set_ylabel('Réel')\n",
        "# axes[1].set_title('Matrice de confusion modele_2_bis : train avec données de whisperX avec test sur whisperX_debut')\n",
        "\n",
        "plot_2_cm(cm_3, cm_3_bis, 'Matrice de confusion modele_2_bis : train avec données de whisperX avec test sur whisperX', 'Matrice de confusion modele_2_bis : train avec données de whisperX avec test sur whisperX_debut')"
      ],
      "metadata": {
        "colab": {
          "base_uri": "https://localhost:8080/",
          "height": 312
        },
        "id": "Vu2HesnYsSHB",
        "outputId": "2ee1a7d2-16b7-44dd-90d4-fe324d83a230"
      },
      "id": "Vu2HesnYsSHB",
      "execution_count": null,
      "outputs": [
        {
          "output_type": "execute_result",
          "data": {
            "text/plain": [
              "Text(0.5, 1.0, 'Matrice de confusion modele_2_bis : train avec données de whisperX avec test sur whisperX_debut')"
            ]
          },
          "metadata": {},
          "execution_count": 46
        },
        {
          "output_type": "display_data",
          "data": {
            "text/plain": [
              "<Figure size 1800x288 with 4 Axes>"
            ],
            "image/png": "[encoded data removed]"
          },
          "metadata": {
            "needs_background": "light"
          }
        }
      ]
    },
    {
      "cell_type": "code",
      "source": [
        "#train avec whisperX_debut\n",
        "\n",
        "model_7 = build_classifier_model()\n",
        "model_7.compile(optimizer=optimizer,\n",
        "              loss='binary_crossentropy',\n",
        "              metrics=metrics)\n",
        "model_7.fit(x_train_7, y_train_7, epochs=20)"
      ],
      "metadata": {
        "id": "HPqwboZhsS68",
        "colab": {
          "base_uri": "https://localhost:8080/"
        },
        "outputId": "0fbdb62a-d5d9-44b5-f151-845e5fff0827"
      },
      "id": "HPqwboZhsS68",
      "execution_count": null,
      "outputs": [
        {
          "output_type": "stream",
          "name": "stderr",
          "text": [
            "WARNING:tensorflow:Please fix your imports. Module tensorflow.python.training.tracking.data_structures has been moved to tensorflow.python.trackable.data_structures. The old module will be deleted in version 2.11.\n",
            "WARNING:tensorflow:From /usr/local/lib/python3.8/dist-packages/tensorflow/python/autograph/pyct/static_analysis/liveness.py:83: Analyzer.lamba_check (from tensorflow.python.autograph.pyct.static_analysis.liveness) is deprecated and will be removed after 2023-09-23.\n",
            "Instructions for updating:\n",
            "Lambda fuctions will be no more assumed to be used in the statement where they are used, or at least in the same block. https://github.com/tensorflow/tensorflow/issues/56089\n"
          ]
        },
        {
          "output_type": "stream",
          "name": "stdout",
          "text": [
            "Epoch 1/20\n",
            "4/4 [==============================] - 252s 56s/step - loss: 0.6967 - binary_accuracy: 0.5000\n",
            "Epoch 2/20\n",
            "4/4 [==============================] - 213s 53s/step - loss: 0.6746 - binary_accuracy: 0.5726\n",
            "Epoch 3/20\n",
            "4/4 [==============================] - 215s 53s/step - loss: 0.6955 - binary_accuracy: 0.5403\n",
            "Epoch 4/20\n",
            "4/4 [==============================] - 211s 52s/step - loss: 0.7127 - binary_accuracy: 0.5161\n",
            "Epoch 5/20\n",
            "4/4 [==============================] - 211s 52s/step - loss: 0.6702 - binary_accuracy: 0.6048\n",
            "Epoch 6/20\n",
            "4/4 [==============================] - 211s 52s/step - loss: 0.6534 - binary_accuracy: 0.7097\n",
            "Epoch 7/20\n",
            "4/4 [==============================] - 210s 52s/step - loss: 0.6491 - binary_accuracy: 0.6532\n",
            "Epoch 8/20\n",
            "4/4 [==============================] - 215s 54s/step - loss: 0.6389 - binary_accuracy: 0.6290\n",
            "Epoch 9/20\n",
            "4/4 [==============================] - 212s 52s/step - loss: 0.5966 - binary_accuracy: 0.6694\n",
            "Epoch 10/20\n",
            "4/4 [==============================] - 214s 53s/step - loss: 0.5378 - binary_accuracy: 0.7500\n",
            "Epoch 11/20\n",
            "4/4 [==============================] - 213s 53s/step - loss: 0.4532 - binary_accuracy: 0.8226\n",
            "Epoch 12/20\n",
            "4/4 [==============================] - 216s 54s/step - loss: 0.4463 - binary_accuracy: 0.8145\n",
            "Epoch 13/20\n",
            "4/4 [==============================] - 214s 53s/step - loss: 0.4203 - binary_accuracy: 0.8468\n",
            "Epoch 14/20\n",
            "4/4 [==============================] - 214s 53s/step - loss: 0.3602 - binary_accuracy: 0.8548\n",
            "Epoch 15/20\n",
            "4/4 [==============================] - 214s 53s/step - loss: 0.3244 - binary_accuracy: 0.9032\n",
            "Epoch 16/20\n",
            "4/4 [==============================] - 213s 53s/step - loss: 0.2745 - binary_accuracy: 0.9113\n",
            "Epoch 17/20\n",
            "4/4 [==============================] - 216s 53s/step - loss: 0.2755 - binary_accuracy: 0.9032\n",
            "Epoch 18/20\n",
            "4/4 [==============================] - 213s 53s/step - loss: 0.2075 - binary_accuracy: 0.9677\n",
            "Epoch 19/20\n",
            "4/4 [==============================] - 221s 54s/step - loss: 0.1601 - binary_accuracy: 0.9677\n",
            "Epoch 20/20\n",
            "4/4 [==============================] - 216s 53s/step - loss: 0.1517 - binary_accuracy: 0.9677\n"
          ]
        },
        {
          "output_type": "execute_result",
          "data": {
            "text/plain": [
              "<keras.callbacks.History at 0x7f5970d31760>"
            ]
          },
          "metadata": {},
          "execution_count": 16
        }
      ]
    },
    {
      "cell_type": "code",
      "source": [
        "#test avec debut_7\n",
        "cm_7 = get_matrice_cm(model_7, x_test_7, y_test_7)\n",
        "model_7.evaluate(x_test_7, y_test_7)"
      ],
      "metadata": {
        "id": "aw1V23xaN6_i",
        "colab": {
          "base_uri": "https://localhost:8080/"
        },
        "outputId": "ac6ecf4b-7bcc-4c81-85e6-5cf24d9a9743"
      },
      "id": "aw1V23xaN6_i",
      "execution_count": null,
      "outputs": [
        {
          "output_type": "stream",
          "name": "stdout",
          "text": [
            "2/2 [==============================] - 22s 4s/step\n",
            "2/2 [==============================] - 23s 7s/step - loss: 0.6074 - binary_accuracy: 0.6905\n"
          ]
        },
        {
          "output_type": "execute_result",
          "data": {
            "text/plain": [
              "[0.6073777079582214, 0.6904761791229248]"
            ]
          },
          "metadata": {},
          "execution_count": 20
        }
      ]
    },
    {
      "cell_type": "code",
      "source": [
        "cm_7_bis = get_matrice_cm(model_7, x_test_2, y_test_2)\n",
        "model_7.evaluate(x_test_2, y_test_2)\n"
      ],
      "metadata": {
        "id": "XOXibT_CN7a0",
        "colab": {
          "base_uri": "https://localhost:8080/"
        },
        "outputId": "6cb51b65-8127-4d9c-e472-94c6ec9083a2"
      },
      "id": "XOXibT_CN7a0",
      "execution_count": null,
      "outputs": [
        {
          "output_type": "stream",
          "name": "stdout",
          "text": [
            "2/2 [==============================] - 21s 4s/step\n",
            "2/2 [==============================] - 24s 7s/step - loss: 0.3550 - binary_accuracy: 0.8571\n"
          ]
        },
        {
          "output_type": "execute_result",
          "data": {
            "text/plain": [
              "[0.35501670837402344, 0.8571428656578064]"
            ]
          },
          "metadata": {},
          "execution_count": 21
        }
      ]
    },
    {
      "cell_type": "code",
      "source": [
        "plot_2_cm(cm_7, cm_7_bis, 'Matrice de confusion modele_7: train avec données de whisperX_debut avec test sur whisperX_debut'\\\n",
        "          , 'Matrice de confusion modele_7_bis: train avec données de whisperX_debut avec test sur whisperX')\n"
      ],
      "metadata": {
        "id": "mhLCYlVhOBvB",
        "colab": {
          "base_uri": "https://localhost:8080/",
          "height": 295
        },
        "outputId": "3851f6f1-2d87-4ff0-98b0-97be56ef220e"
      },
      "id": "mhLCYlVhOBvB",
      "execution_count": null,
      "outputs": [
        {
          "output_type": "display_data",
          "data": {
            "text/plain": [
              "<Figure size 1440x288 with 4 Axes>"
            ],
            "image/png": "[encoded data removed]"
          },
          "metadata": {
            "needs_background": "light"
          }
        }
      ]
    },
    {
      "cell_type": "code",
      "source": [],
      "metadata": {
        "id": "Xh4hui1aOCop"
      },
      "id": "Xh4hui1aOCop",
      "execution_count": null,
      "outputs": []
    },
    {
      "cell_type": "code",
      "source": [],
      "metadata": {
        "id": "jWORxttXODzd"
      },
      "id": "jWORxttXODzd",
      "execution_count": null,
      "outputs": []
    },
    {
      "cell_type": "code",
      "source": [],
      "metadata": {
        "id": "Itpxrs4QOWop"
      },
      "id": "Itpxrs4QOWop",
      "execution_count": null,
      "outputs": []
    }
  ],
  "metadata": {
    "kernelspec": {
      "display_name": "Python 3 (ipykernel)",
      "language": "python",
      "name": "python3"
    },
    "language_info": {
      "codemirror_mode": {
        "name": "ipython",
        "version": 3
      },
      "file_extension": ".py",
      "mimetype": "text/x-python",
      "name": "python",
      "nbconvert_exporter": "python",
      "pygments_lexer": "ipython3",
      "version": "3.9.16"
    },
    "colab": {
      "provenance": []
    },
    "accelerator": "GPU",
    "gpuClass": "standard"
  },
  "nbformat": 4,
  "nbformat_minor": 5
}